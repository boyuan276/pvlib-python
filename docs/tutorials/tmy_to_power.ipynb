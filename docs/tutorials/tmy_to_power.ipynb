{
 "cells": [
  {
   "cell_type": "markdown",
   "metadata": {},
   "source": [
    "# TMY to Power Tutorial\n",
    "\n",
    "This tutorial will walk through the process of going from TMY data to AC power using the SAPM.\n",
    "\n",
    "Table of contents:\n",
    "1. [Setup](#Setup)\n",
    "2. [Load TMY data](#Load-TMY-data)\n",
    "2. [Calculate modeling intermediates](#Calculate-modeling-intermediates)\n",
    "2. [DC power using SAPM](#DC-power-using-SAPM)\n",
    "2. [AC power using SAPM](#AC-power-using-SAPM)\n",
    "\n",
    "This tutorial requires pvlib >= 0.6.0.\n",
    "\n",
    "Authors:\n",
    "* Will Holmgren (@wholmgren), University of Arizona, July 2015, March 2016, August 2018.\n",
    "* Rob Andrews (@Calama-Consulting), Heliolytics, June 2014"
   ]
  },
  {
   "cell_type": "markdown",
   "metadata": {},
   "source": [
    "## Setup"
   ]
  },
  {
   "cell_type": "markdown",
   "metadata": {},
   "source": [
    "These are just your standard interactive scientific python imports that you'll get very used to using."
   ]
  },
  {
   "cell_type": "code",
   "execution_count": 1,
   "metadata": {},
   "outputs": [],
   "source": [
    "# built-in python modules\n",
    "import os\n",
    "import inspect\n",
    "\n",
    "# scientific python add-ons\n",
    "import numpy as np\n",
    "import pandas as pd\n",
    "\n",
    "# plotting stuff\n",
    "# first line makes the plots appear in the notebook\n",
    "%matplotlib inline \n",
    "import matplotlib.pyplot as plt\n",
    "import matplotlib as mpl\n",
    "\n",
    "# finally, we import the pvlib library\n",
    "import pvlib"
   ]
  },
  {
   "cell_type": "markdown",
   "metadata": {},
   "source": [
    "## Load TMY data"
   ]
  },
  {
   "cell_type": "markdown",
   "metadata": {},
   "source": [
    "pvlib comes with a couple of TMY files, and we'll use one of them for simplicity. You could also load a file from disk, or specify a url. See this NREL website for a list of TMY files:\n",
    "\n",
    "http://rredc.nrel.gov/solar/old_data/nsrdb/1991-2005/tmy3/by_state_and_city.html"
   ]
  },
  {
   "cell_type": "code",
   "execution_count": 2,
   "metadata": {},
   "outputs": [],
   "source": [
    "# Find the absolute file path to your pvlib installation\n",
    "pvlib_abspath = os.path.dirname(os.path.abspath(inspect.getfile(pvlib)))\n",
    "\n",
    "# absolute path to a data file\n",
    "datapath = os.path.join(pvlib_abspath, 'data', '703165TY.csv')\n",
    "\n",
    "# read tmy data with year values coerced to a single year\n",
    "tmy_data, meta = pvlib.iotools.tmy.read_tmy3(datapath, coerce_year=2015)\n",
    "tmy_data.index.name = 'Time'\n",
    "\n",
    "# TMY data seems to be given as hourly data with time stamp at the end\n",
    "# shift the index 30 Minutes back for calculation of sun positions\n",
    "tmy_data = tmy_data.shift(freq='-30Min')['2015']"
   ]
  },
  {
   "cell_type": "markdown",
   "metadata": {},
   "source": [
    "The file handling above looks complicated because we're trying to account for the many different ways that people will run this notebook on their systems. You can just put a simple string path into the ``read_tmy3`` function if you know where the file is."
   ]
  },
  {
   "cell_type": "markdown",
   "metadata": {},
   "source": [
    "Let's look at the imported version of the TMY file."
   ]
  },
  {
   "cell_type": "code",
   "execution_count": 3,
   "metadata": {},
   "outputs": [
    {
     "data": {
      "text/html": [
       "<div>\n",
       "<style scoped>\n",
       "    .dataframe tbody tr th:only-of-type {\n",
       "        vertical-align: middle;\n",
       "    }\n",
       "\n",
       "    .dataframe tbody tr th {\n",
       "        vertical-align: top;\n",
       "    }\n",
       "\n",
       "    .dataframe thead th {\n",
       "        text-align: right;\n",
       "    }\n",
       "</style>\n",
       "<table border=\"1\" class=\"dataframe\">\n",
       "  <thead>\n",
       "    <tr style=\"text-align: right;\">\n",
       "      <th></th>\n",
       "      <th>ETR</th>\n",
       "      <th>ETRN</th>\n",
       "      <th>GHI</th>\n",
       "      <th>GHISource</th>\n",
       "      <th>GHIUncertainty</th>\n",
       "      <th>DNI</th>\n",
       "      <th>DNISource</th>\n",
       "      <th>DNIUncertainty</th>\n",
       "      <th>DHI</th>\n",
       "      <th>DHISource</th>\n",
       "      <th>...</th>\n",
       "      <th>AOD</th>\n",
       "      <th>AODSource</th>\n",
       "      <th>AODUncertainty</th>\n",
       "      <th>Alb</th>\n",
       "      <th>AlbSource</th>\n",
       "      <th>AlbUncertainty</th>\n",
       "      <th>Lprecipdepth</th>\n",
       "      <th>Lprecipquantity</th>\n",
       "      <th>LprecipSource</th>\n",
       "      <th>LprecipUncertainty</th>\n",
       "    </tr>\n",
       "    <tr>\n",
       "      <th>Time</th>\n",
       "      <th></th>\n",
       "      <th></th>\n",
       "      <th></th>\n",
       "      <th></th>\n",
       "      <th></th>\n",
       "      <th></th>\n",
       "      <th></th>\n",
       "      <th></th>\n",
       "      <th></th>\n",
       "      <th></th>\n",
       "      <th></th>\n",
       "      <th></th>\n",
       "      <th></th>\n",
       "      <th></th>\n",
       "      <th></th>\n",
       "      <th></th>\n",
       "      <th></th>\n",
       "      <th></th>\n",
       "      <th></th>\n",
       "      <th></th>\n",
       "      <th></th>\n",
       "    </tr>\n",
       "  </thead>\n",
       "  <tbody>\n",
       "    <tr>\n",
       "      <th>2015-01-01 00:30:00-09:00</th>\n",
       "      <td>0</td>\n",
       "      <td>0</td>\n",
       "      <td>0</td>\n",
       "      <td>1</td>\n",
       "      <td>0</td>\n",
       "      <td>0</td>\n",
       "      <td>1</td>\n",
       "      <td>0</td>\n",
       "      <td>0</td>\n",
       "      <td>1</td>\n",
       "      <td>...</td>\n",
       "      <td>0.051</td>\n",
       "      <td>F</td>\n",
       "      <td>8</td>\n",
       "      <td>0.24</td>\n",
       "      <td>F</td>\n",
       "      <td>8</td>\n",
       "      <td>-9900</td>\n",
       "      <td>-9900</td>\n",
       "      <td>?</td>\n",
       "      <td>0</td>\n",
       "    </tr>\n",
       "    <tr>\n",
       "      <th>2015-01-01 01:30:00-09:00</th>\n",
       "      <td>0</td>\n",
       "      <td>0</td>\n",
       "      <td>0</td>\n",
       "      <td>1</td>\n",
       "      <td>0</td>\n",
       "      <td>0</td>\n",
       "      <td>1</td>\n",
       "      <td>0</td>\n",
       "      <td>0</td>\n",
       "      <td>1</td>\n",
       "      <td>...</td>\n",
       "      <td>0.051</td>\n",
       "      <td>F</td>\n",
       "      <td>8</td>\n",
       "      <td>0.24</td>\n",
       "      <td>F</td>\n",
       "      <td>8</td>\n",
       "      <td>-9900</td>\n",
       "      <td>-9900</td>\n",
       "      <td>?</td>\n",
       "      <td>0</td>\n",
       "    </tr>\n",
       "    <tr>\n",
       "      <th>2015-01-01 02:30:00-09:00</th>\n",
       "      <td>0</td>\n",
       "      <td>0</td>\n",
       "      <td>0</td>\n",
       "      <td>1</td>\n",
       "      <td>0</td>\n",
       "      <td>0</td>\n",
       "      <td>1</td>\n",
       "      <td>0</td>\n",
       "      <td>0</td>\n",
       "      <td>1</td>\n",
       "      <td>...</td>\n",
       "      <td>0.051</td>\n",
       "      <td>F</td>\n",
       "      <td>8</td>\n",
       "      <td>0.24</td>\n",
       "      <td>F</td>\n",
       "      <td>8</td>\n",
       "      <td>-9900</td>\n",
       "      <td>-9900</td>\n",
       "      <td>?</td>\n",
       "      <td>0</td>\n",
       "    </tr>\n",
       "    <tr>\n",
       "      <th>2015-01-01 03:30:00-09:00</th>\n",
       "      <td>0</td>\n",
       "      <td>0</td>\n",
       "      <td>0</td>\n",
       "      <td>1</td>\n",
       "      <td>0</td>\n",
       "      <td>0</td>\n",
       "      <td>1</td>\n",
       "      <td>0</td>\n",
       "      <td>0</td>\n",
       "      <td>1</td>\n",
       "      <td>...</td>\n",
       "      <td>0.051</td>\n",
       "      <td>F</td>\n",
       "      <td>8</td>\n",
       "      <td>0.24</td>\n",
       "      <td>F</td>\n",
       "      <td>8</td>\n",
       "      <td>-9900</td>\n",
       "      <td>-9900</td>\n",
       "      <td>?</td>\n",
       "      <td>0</td>\n",
       "    </tr>\n",
       "    <tr>\n",
       "      <th>2015-01-01 04:30:00-09:00</th>\n",
       "      <td>0</td>\n",
       "      <td>0</td>\n",
       "      <td>0</td>\n",
       "      <td>1</td>\n",
       "      <td>0</td>\n",
       "      <td>0</td>\n",
       "      <td>1</td>\n",
       "      <td>0</td>\n",
       "      <td>0</td>\n",
       "      <td>1</td>\n",
       "      <td>...</td>\n",
       "      <td>0.051</td>\n",
       "      <td>F</td>\n",
       "      <td>8</td>\n",
       "      <td>0.24</td>\n",
       "      <td>F</td>\n",
       "      <td>8</td>\n",
       "      <td>-9900</td>\n",
       "      <td>-9900</td>\n",
       "      <td>?</td>\n",
       "      <td>0</td>\n",
       "    </tr>\n",
       "  </tbody>\n",
       "</table>\n",
       "<p>5 rows × 66 columns</p>\n",
       "</div>"
      ],
      "text/plain": [
       "                           ETR  ETRN  GHI  GHISource  GHIUncertainty  DNI  \\\n",
       "Time                                                                        \n",
       "2015-01-01 00:30:00-09:00    0     0    0          1               0    0   \n",
       "2015-01-01 01:30:00-09:00    0     0    0          1               0    0   \n",
       "2015-01-01 02:30:00-09:00    0     0    0          1               0    0   \n",
       "2015-01-01 03:30:00-09:00    0     0    0          1               0    0   \n",
       "2015-01-01 04:30:00-09:00    0     0    0          1               0    0   \n",
       "\n",
       "                           DNISource  DNIUncertainty  DHI  DHISource  ...  \\\n",
       "Time                                                                  ...   \n",
       "2015-01-01 00:30:00-09:00          1               0    0          1  ...   \n",
       "2015-01-01 01:30:00-09:00          1               0    0          1  ...   \n",
       "2015-01-01 02:30:00-09:00          1               0    0          1  ...   \n",
       "2015-01-01 03:30:00-09:00          1               0    0          1  ...   \n",
       "2015-01-01 04:30:00-09:00          1               0    0          1  ...   \n",
       "\n",
       "                             AOD  AODSource  AODUncertainty   Alb  AlbSource  \\\n",
       "Time                                                                           \n",
       "2015-01-01 00:30:00-09:00  0.051          F               8  0.24          F   \n",
       "2015-01-01 01:30:00-09:00  0.051          F               8  0.24          F   \n",
       "2015-01-01 02:30:00-09:00  0.051          F               8  0.24          F   \n",
       "2015-01-01 03:30:00-09:00  0.051          F               8  0.24          F   \n",
       "2015-01-01 04:30:00-09:00  0.051          F               8  0.24          F   \n",
       "\n",
       "                           AlbUncertainty  Lprecipdepth  Lprecipquantity  \\\n",
       "Time                                                                       \n",
       "2015-01-01 00:30:00-09:00               8         -9900            -9900   \n",
       "2015-01-01 01:30:00-09:00               8         -9900            -9900   \n",
       "2015-01-01 02:30:00-09:00               8         -9900            -9900   \n",
       "2015-01-01 03:30:00-09:00               8         -9900            -9900   \n",
       "2015-01-01 04:30:00-09:00               8         -9900            -9900   \n",
       "\n",
       "                           LprecipSource  LprecipUncertainty  \n",
       "Time                                                          \n",
       "2015-01-01 00:30:00-09:00              ?                   0  \n",
       "2015-01-01 01:30:00-09:00              ?                   0  \n",
       "2015-01-01 02:30:00-09:00              ?                   0  \n",
       "2015-01-01 03:30:00-09:00              ?                   0  \n",
       "2015-01-01 04:30:00-09:00              ?                   0  \n",
       "\n",
       "[5 rows x 66 columns]"
      ]
     },
     "execution_count": 3,
     "metadata": {},
     "output_type": "execute_result"
    }
   ],
   "source": [
    "tmy_data.head()"
   ]
  },
  {
   "cell_type": "markdown",
   "metadata": {},
   "source": [
    "This is a ``pandas DataFrame`` object. It has a lot of great properties that are beyond the scope of our tutorials."
   ]
  },
  {
   "cell_type": "markdown",
   "metadata": {},
   "source": [
    "Plot the GHI data from the TMY file"
   ]
  },
  {
   "cell_type": "code",
   "execution_count": 4,
   "metadata": {},
   "outputs": [
    {
     "data": {
      "text/plain": [
       "Text(0, 0.5, 'Irradiance (W/m**2)')"
      ]
     },
     "execution_count": 4,
     "metadata": {},
     "output_type": "execute_result"
    },
    {
     "data": {
      "image/png": "[encoded data removed]",
      "text/plain": [
       "<Figure size 432x288 with 1 Axes>"
      ]
     },
     "metadata": {
      "needs_background": "light"
     },
     "output_type": "display_data"
    }
   ],
   "source": [
    "tmy_data['GHI'].plot()\n",
    "plt.ylabel('Irradiance (W/m**2)')"
   ]
  },
  {
   "cell_type": "markdown",
   "metadata": {},
   "source": [
    "## Calculate modeling intermediates"
   ]
  },
  {
   "cell_type": "markdown",
   "metadata": {},
   "source": [
    "Before we can calculate power for all times in the TMY file, we will need to calculate:\n",
    "* solar position \n",
    "* extra terrestrial radiation\n",
    "* airmass\n",
    "* angle of incidence\n",
    "* POA sky and ground diffuse radiation\n",
    "* cell and module temperatures"
   ]
  },
  {
   "cell_type": "markdown",
   "metadata": {},
   "source": [
    "First, define some PV system parameters."
   ]
  },
  {
   "cell_type": "code",
   "execution_count": 5,
   "metadata": {},
   "outputs": [
    {
     "name": "stdout",
     "output_type": "stream",
     "text": [
      "Location: \n",
      "  name: SAND POINT\n",
      "  latitude: 55.317\n",
      "  longitude: -160.517\n",
      "  altitude: 7.0\n",
      "  tz: US/Alaska\n"
     ]
    }
   ],
   "source": [
    "surface_tilt = 30\n",
    "surface_azimuth = 180 # pvlib uses 0=North, 90=East, 180=South, 270=West convention\n",
    "albedo = 0.2\n",
    "\n",
    "# create pvlib Location object based on meta data\n",
    "sand_point = pvlib.location.Location(meta['latitude'], meta['longitude'], tz='US/Alaska', \n",
    "                                     altitude=meta['altitude'], name=meta['Name'].replace('\"',''))\n",
    "print(sand_point)"
   ]
  },
  {
   "cell_type": "markdown",
   "metadata": {},
   "source": [
    "### Solar position"
   ]
  },
  {
   "cell_type": "markdown",
   "metadata": {},
   "source": [
    "Calculate the solar position for all times in the TMY file. \n",
    "\n",
    "The default solar position algorithm is based on Reda and Andreas (2004). Our implementation is pretty fast, but you can make it even faster if you install [``numba``](http://numba.pydata.org/#installing) and use add  ``method='nrel_numba'`` to the function call below."
   ]
  },
  {
   "cell_type": "code",
   "execution_count": 6,
   "metadata": {},
   "outputs": [
    {
     "data": {
      "text/plain": [
       "<matplotlib.axes._subplots.AxesSubplot at 0x124284310>"
      ]
     },
     "execution_count": 6,
     "metadata": {},
     "output_type": "execute_result"
    },
    {
     "data": {
      "image/png": "[encoded data removed]",
      "text/plain": [
       "<Figure size 432x288 with 1 Axes>"
      ]
     },
     "metadata": {
      "needs_background": "light"
     },
     "output_type": "display_data"
    }
   ],
   "source": [
    "solpos = pvlib.solarposition.get_solarposition(tmy_data.index, sand_point.latitude, sand_point.longitude)\n",
    "\n",
    "solpos.plot()"
   ]
  },
  {
   "cell_type": "markdown",
   "metadata": {},
   "source": [
    "The funny looking jump in the azimuth is just due to the coarse time sampling in the TMY file."
   ]
  },
  {
   "cell_type": "markdown",
   "metadata": {},
   "source": [
    "### DNI ET\n",
    "\n",
    "Calculate extra terrestrial radiation. This is needed for many plane of array diffuse irradiance models."
   ]
  },
  {
   "cell_type": "code",
   "execution_count": 7,
   "metadata": {},
   "outputs": [
    {
     "data": {
      "text/plain": [
       "Text(0, 0.5, 'Extra terrestrial radiation (W/m**2)')"
      ]
     },
     "execution_count": 7,
     "metadata": {},
     "output_type": "execute_result"
    },
    {
     "data": {
      "image/png": "[encoded data removed]",
      "text/plain": [
       "<Figure size 432x288 with 1 Axes>"
      ]
     },
     "metadata": {
      "needs_background": "light"
     },
     "output_type": "display_data"
    }
   ],
   "source": [
    "# the extraradiation function returns a simple numpy array\n",
    "# instead of a nice pandas series. We will change this\n",
    "# in a future version\n",
    "dni_extra = pvlib.irradiance.get_extra_radiation(tmy_data.index)\n",
    "dni_extra = pd.Series(dni_extra, index=tmy_data.index)\n",
    "\n",
    "dni_extra.plot()\n",
    "plt.ylabel('Extra terrestrial radiation (W/m**2)')"
   ]
  },
  {
   "cell_type": "markdown",
   "metadata": {},
   "source": [
    "### Airmass\n",
    "\n",
    "Calculate airmass. Lots of model options here, see the ``atmosphere`` module tutorial for more details."
   ]
  },
  {
   "cell_type": "code",
   "execution_count": 8,
   "metadata": {},
   "outputs": [
    {
     "data": {
      "text/plain": [
       "Text(0, 0.5, 'Airmass')"
      ]
     },
     "execution_count": 8,
     "metadata": {},
     "output_type": "execute_result"
    },
    {
     "data": {
      "image/png": "[encoded data removed]",
      "text/plain": [
       "<Figure size 432x288 with 1 Axes>"
      ]
     },
     "metadata": {
      "needs_background": "light"
     },
     "output_type": "display_data"
    }
   ],
   "source": [
    "airmass = pvlib.atmosphere.get_relative_airmass(solpos['apparent_zenith'])\n",
    "\n",
    "airmass.plot()\n",
    "plt.ylabel('Airmass')"
   ]
  },
  {
   "cell_type": "markdown",
   "metadata": {},
   "source": [
    "The funny appearance is due to aliasing and setting invalid numbers equal to ``NaN``. Replot just a day or two and you'll see that the numbers are right."
   ]
  },
  {
   "cell_type": "markdown",
   "metadata": {},
   "source": [
    "### POA sky diffuse"
   ]
  },
  {
   "cell_type": "markdown",
   "metadata": {},
   "source": [
    "Use the Hay Davies model to calculate the plane of array diffuse sky radiation. See the ``irradiance`` module tutorial for comparisons of different models."
   ]
  },
  {
   "cell_type": "code",
   "execution_count": 9,
   "metadata": {},
   "outputs": [
    {
     "data": {
      "text/plain": [
       "Text(0, 0.5, 'Irradiance (W/m**2)')"
      ]
     },
     "execution_count": 9,
     "metadata": {},
     "output_type": "execute_result"
    },
    {
     "data": {
      "image/png": "[encoded data removed]",
      "text/plain": [
       "<Figure size 432x288 with 1 Axes>"
      ]
     },
     "metadata": {
      "needs_background": "light"
     },
     "output_type": "display_data"
    }
   ],
   "source": [
    "poa_sky_diffuse = pvlib.irradiance.haydavies(surface_tilt, surface_azimuth,\n",
    "                                             tmy_data['DHI'], tmy_data['DNI'], dni_extra,\n",
    "                                             solpos['apparent_zenith'], solpos['azimuth'])\n",
    "\n",
    "poa_sky_diffuse.plot()\n",
    "plt.ylabel('Irradiance (W/m**2)')"
   ]
  },
  {
   "cell_type": "markdown",
   "metadata": {},
   "source": [
    "### POA ground diffuse\n",
    "\n",
    "Calculate ground diffuse. We specified the albedo above. You could have also provided a string to the ``surface_type`` keyword argument."
   ]
  },
  {
   "cell_type": "code",
   "execution_count": 10,
   "metadata": {},
   "outputs": [
    {
     "data": {
      "text/plain": [
       "Text(0, 0.5, 'Irradiance (W/m**2)')"
      ]
     },
     "execution_count": 10,
     "metadata": {},
     "output_type": "execute_result"
    },
    {
     "data": {
      "image/png": "[encoded data removed]",
      "text/plain": [
       "<Figure size 432x288 with 1 Axes>"
      ]
     },
     "metadata": {
      "needs_background": "light"
     },
     "output_type": "display_data"
    }
   ],
   "source": [
    "poa_ground_diffuse = pvlib.irradiance.get_ground_diffuse(surface_tilt, tmy_data['GHI'], albedo=albedo)\n",
    "\n",
    "poa_ground_diffuse.plot()\n",
    "plt.ylabel('Irradiance (W/m**2)')"
   ]
  },
  {
   "cell_type": "markdown",
   "metadata": {},
   "source": [
    "### AOI\n",
    "\n",
    "Calculate AOI"
   ]
  },
  {
   "cell_type": "code",
   "execution_count": 11,
   "metadata": {},
   "outputs": [
    {
     "data": {
      "text/plain": [
       "Text(0, 0.5, 'Angle of incidence (deg)')"
      ]
     },
     "execution_count": 11,
     "metadata": {},
     "output_type": "execute_result"
    },
    {
     "data": {
      "image/png": "[encoded data removed]",
      "text/plain": [
       "<Figure size 432x288 with 1 Axes>"
      ]
     },
     "metadata": {
      "needs_background": "light"
     },
     "output_type": "display_data"
    }
   ],
   "source": [
    "aoi = pvlib.irradiance.aoi(surface_tilt, surface_azimuth, solpos['apparent_zenith'], solpos['azimuth'])\n",
    "\n",
    "aoi.plot()\n",
    "plt.ylabel('Angle of incidence (deg)')"
   ]
  },
  {
   "cell_type": "markdown",
   "metadata": {},
   "source": [
    "Note that AOI has values greater than 90 deg. This is ok."
   ]
  },
  {
   "cell_type": "markdown",
   "metadata": {},
   "source": [
    "### POA total\n",
    "\n",
    "Calculate POA irradiance"
   ]
  },
  {
   "cell_type": "code",
   "execution_count": 12,
   "metadata": {},
   "outputs": [
    {
     "data": {
      "text/plain": [
       "Text(0.5, 1.0, 'POA Irradiance')"
      ]
     },
     "execution_count": 12,
     "metadata": {},
     "output_type": "execute_result"
    },
    {
     "data": {
      "image/png": "[encoded data removed]",
      "text/plain": [
       "<Figure size 432x288 with 1 Axes>"
      ]
     },
     "metadata": {
      "needs_background": "light"
     },
     "output_type": "display_data"
    }
   ],
   "source": [
    "poa_irrad = pvlib.irradiance.poa_components(aoi, tmy_data['DNI'], poa_sky_diffuse, poa_ground_diffuse)\n",
    "\n",
    "poa_irrad.plot()\n",
    "plt.ylabel('Irradiance (W/m**2)')\n",
    "plt.title('POA Irradiance')"
   ]
  },
  {
   "cell_type": "markdown",
   "metadata": {},
   "source": [
    "### Cell and module temperature\n",
    "\n",
    "Calculate pv cell and module temperature"
   ]
  },
  {
   "cell_type": "code",
   "execution_count": 38,
   "metadata": {},
   "outputs": [
    {
     "data": {
      "text/plain": [
       "Text(0, 0.5, 'Temperature (C)')"
      ]
     },
     "execution_count": 38,
     "metadata": {},
     "output_type": "execute_result"
    },
    {
     "data": {
      "image/png": "[encoded data removed]",
      "text/plain": [
       "<Figure size 432x288 with 1 Axes>"
      ]
     },
     "metadata": {
      "needs_background": "light"
     },
     "output_type": "display_data"
    }
   ],
   "source": [
    "# pvtemps = pvlib.pvsystem.sapm_celltemp(poa_irrad['poa_global'], tmy_data['Wspd'], tmy_data['DryBulb'])\n",
    "params = pvlib.temperature.TEMPERATURE_MODEL_PARAMETERS['sapm']['open_rack_glass_glass']\n",
    "pvtemps = pvlib.temperature.sapm_cell(poa_irrad['poa_global'], tmy_data['DryBulb'], tmy_data['Wspd'], **params)\n",
    "\n",
    "pvtemps.plot()\n",
    "plt.ylabel('Temperature (C)')"
   ]
  },
  {
   "cell_type": "markdown",
   "metadata": {},
   "source": [
    "## DC power using SAPM"
   ]
  },
  {
   "cell_type": "markdown",
   "metadata": {},
   "source": [
    "Get module data."
   ]
  },
  {
   "cell_type": "code",
   "execution_count": 14,
   "metadata": {},
   "outputs": [],
   "source": [
    "sandia_modules = pvlib.pvsystem.retrieve_sam(name='SandiaMod')"
   ]
  },
  {
   "cell_type": "markdown",
   "metadata": {},
   "source": [
    "Choose a particular module"
   ]
  },
  {
   "cell_type": "code",
   "execution_count": 15,
   "metadata": {},
   "outputs": [
    {
     "data": {
      "text/plain": [
       "Vintage                                                          2009\n",
       "Area                                                            1.701\n",
       "Material                                                         c-Si\n",
       "Cells_in_Series                                                    96\n",
       "Parallel_Strings                                                    1\n",
       "Isco                                                          5.09115\n",
       "Voco                                                          59.2608\n",
       "Impo                                                          4.54629\n",
       "Vmpo                                                          48.3156\n",
       "Aisc                                                         0.000397\n",
       "Aimp                                                         0.000181\n",
       "C0                                                            1.01284\n",
       "C1                                                         -0.0128398\n",
       "Bvoco                                                        -0.21696\n",
       "Mbvoc                                                               0\n",
       "Bvmpo                                                       -0.235488\n",
       "Mbvmp                                                               0\n",
       "N                                                              1.4032\n",
       "C2                                                           0.279317\n",
       "C3                                                           -7.24463\n",
       "A0                                                           0.928385\n",
       "A1                                                           0.068093\n",
       "A2                                                         -0.0157738\n",
       "A3                                                          0.0016606\n",
       "A4                                                          -6.93e-05\n",
       "B0                                                                  1\n",
       "B1                                                          -0.002438\n",
       "B2                                                          0.0003103\n",
       "B3                                                         -1.246e-05\n",
       "B4                                                           2.11e-07\n",
       "B5                                                          -1.36e-09\n",
       "DTC                                                                 3\n",
       "FD                                                                  1\n",
       "A                                                            -3.40641\n",
       "B                                                          -0.0842075\n",
       "C4                                                           0.996446\n",
       "C5                                                           0.003554\n",
       "IXO                                                           4.97599\n",
       "IXXO                                                          3.18803\n",
       "C6                                                            1.15535\n",
       "C7                                                          -0.155353\n",
       "Notes               Source: Sandia National Laboratories Updated 9...\n",
       "Name: Canadian_Solar_CS5P_220M___2009_, dtype: object"
      ]
     },
     "execution_count": 15,
     "metadata": {},
     "output_type": "execute_result"
    }
   ],
   "source": [
    "sandia_module = sandia_modules.Canadian_Solar_CS5P_220M___2009_\n",
    "sandia_module"
   ]
  },
  {
   "cell_type": "markdown",
   "metadata": {},
   "source": [
    "Calculate the effective irradiance"
   ]
  },
  {
   "cell_type": "code",
   "execution_count": 16,
   "metadata": {},
   "outputs": [],
   "source": [
    "effective_irradiance = pvlib.pvsystem.sapm_effective_irradiance(poa_irrad.poa_direct, poa_irrad.poa_diffuse, airmass, aoi, sandia_module)"
   ]
  },
  {
   "cell_type": "markdown",
   "metadata": {},
   "source": [
    "Run the SAPM using the parameters we calculated above."
   ]
  },
  {
   "cell_type": "code",
   "execution_count": 54,
   "metadata": {},
   "outputs": [
    {
     "name": "stdout",
     "output_type": "stream",
     "text": [
      "                               i_sc      i_mp       v_oc       v_mp  \\\n",
      "Time                                                                  \n",
      "2015-01-01 00:30:00-09:00  0.000000  0.000000   0.000000   0.000000   \n",
      "2015-01-01 01:30:00-09:00  0.000000  0.000000   0.000000   0.000000   \n",
      "2015-01-01 02:30:00-09:00  0.000000  0.000000   0.000000   0.000000   \n",
      "2015-01-01 03:30:00-09:00  0.000000  0.000000   0.000000   0.000000   \n",
      "2015-01-01 04:30:00-09:00  0.000000  0.000000   0.000000   0.000000   \n",
      "2015-01-01 05:30:00-09:00  0.000000  0.000000   0.000000   0.000000   \n",
      "2015-01-01 06:30:00-09:00  0.000000  0.000000   0.000000   0.000000   \n",
      "2015-01-01 07:30:00-09:00  0.000000  0.000000   0.000000   0.000000   \n",
      "2015-01-01 08:30:00-09:00  0.000000  0.000000   0.000000   0.000000   \n",
      "2015-01-01 09:30:00-09:00  0.000000  0.000000   0.000000   0.000000   \n",
      "2015-01-01 10:30:00-09:00  0.000000  0.000000   0.000000   0.000000   \n",
      "2015-01-01 11:30:00-09:00  0.147733  0.134095  51.724288  39.442980   \n",
      "2015-01-01 12:30:00-09:00  0.243384  0.220892  53.494535  42.683809   \n",
      "2015-01-01 13:30:00-09:00  0.288149  0.261470  53.954486  43.524820   \n",
      "2015-01-01 14:30:00-09:00  0.273256  0.247972  53.812781  43.268421   \n",
      "2015-01-01 15:30:00-09:00  0.203386  0.184610  52.926293  41.647937   \n",
      "2015-01-01 16:30:00-09:00  0.081596  0.074097  50.136794  35.727792   \n",
      "2015-01-01 17:30:00-09:00  0.000000  0.000000   0.000000   0.000000   \n",
      "2015-01-01 18:30:00-09:00  0.000000  0.000000   0.000000   0.000000   \n",
      "2015-01-01 19:30:00-09:00  0.000000  0.000000   0.000000   0.000000   \n",
      "2015-01-01 20:30:00-09:00  0.000000  0.000000   0.000000   0.000000   \n",
      "2015-01-01 21:30:00-09:00  0.000000  0.000000   0.000000   0.000000   \n",
      "2015-01-01 22:30:00-09:00  0.000000  0.000000   0.000000   0.000000   \n",
      "2015-01-01 23:30:00-09:00  0.000000  0.000000   0.000000   0.000000   \n",
      "\n",
      "                                p_mp       i_x      i_xx  \n",
      "Time                                                      \n",
      "2015-01-01 00:30:00-09:00   0.000000  0.000000  0.000000  \n",
      "2015-01-01 01:30:00-09:00   0.000000  0.000000  0.000000  \n",
      "2015-01-01 02:30:00-09:00   0.000000  0.000000  0.000000  \n",
      "2015-01-01 03:30:00-09:00   0.000000  0.000000  0.000000  \n",
      "2015-01-01 04:30:00-09:00   0.000000  0.000000  0.000000  \n",
      "2015-01-01 05:30:00-09:00   0.000000  0.000000  0.000000  \n",
      "2015-01-01 06:30:00-09:00   0.000000  0.000000  0.000000  \n",
      "2015-01-01 07:30:00-09:00   0.000000  0.000000  0.000000  \n",
      "2015-01-01 08:30:00-09:00   0.000000  0.000000  0.000000  \n",
      "2015-01-01 09:30:00-09:00   0.000000  0.000000  0.000000  \n",
      "2015-01-01 10:30:00-09:00   0.000000  0.000000  0.000000  \n",
      "2015-01-01 11:30:00-09:00   5.289121  0.143893  0.106460  \n",
      "2015-01-01 12:30:00-09:00   9.428494  0.237074  0.174941  \n",
      "2015-01-01 13:30:00-09:00  11.380422  0.280687  0.206869  \n",
      "2015-01-01 14:30:00-09:00  10.729348  0.266177  0.196255  \n",
      "2015-01-01 15:30:00-09:00   7.688646  0.198107  0.146347  \n",
      "2015-01-01 16:30:00-09:00   2.647319  0.079472  0.058904  \n",
      "2015-01-01 17:30:00-09:00   0.000000  0.000000  0.000000  \n",
      "2015-01-01 18:30:00-09:00   0.000000  0.000000  0.000000  \n",
      "2015-01-01 19:30:00-09:00   0.000000  0.000000  0.000000  \n",
      "2015-01-01 20:30:00-09:00   0.000000  0.000000  0.000000  \n",
      "2015-01-01 21:30:00-09:00   0.000000  0.000000  0.000000  \n",
      "2015-01-01 22:30:00-09:00   0.000000  0.000000  0.000000  \n",
      "2015-01-01 23:30:00-09:00   0.000000  0.000000  0.000000  \n"
     ]
    },
    {
     "data": {
      "text/plain": [
       "Text(0, 0.5, 'DC Power (W)')"
      ]
     },
     "execution_count": 54,
     "metadata": {},
     "output_type": "execute_result"
    },
    {
     "data": {
      "image/png": "[encoded data removed]",
      "text/plain": [
       "<Figure size 432x288 with 1 Axes>"
      ]
     },
     "metadata": {
      "needs_background": "light"
     },
     "output_type": "display_data"
    }
   ],
   "source": [
    "sapm_out = pvlib.pvsystem.sapm(effective_irradiance, pvtemps, sandia_module)\n",
    "print(sapm_out.head(24))\n",
    "\n",
    "sapm_out[['p_mp']].plot()\n",
    "plt.ylabel('DC Power (W)')"
   ]
  },
  {
   "cell_type": "markdown",
   "metadata": {},
   "source": [
    "## DC power using single diode"
   ]
  },
  {
   "cell_type": "code",
   "execution_count": 74,
   "metadata": {},
   "outputs": [],
   "source": [
    "cec_modules = pvlib.pvsystem.retrieve_sam(name='CECMod')\n",
    "# print(cec_modules.columns[2000:2100])\n",
    "cec_module = cec_modules.Canadian_Solar_Inc__CS5P_220M"
   ]
  },
  {
   "cell_type": "code",
   "execution_count": 75,
   "metadata": {},
   "outputs": [],
   "source": [
    "d = {k: cec_module[k] for k in ['a_ref', 'I_L_ref', 'I_o_ref', 'R_sh_ref', 'R_s']}"
   ]
  },
  {
   "cell_type": "code",
   "execution_count": 77,
   "metadata": {},
   "outputs": [],
   "source": [
    "photocurrent, saturation_current, resistance_series, resistance_shunt, nNsVth = (\n",
    "    pvlib.pvsystem.calcparams_desoto(poa_irrad.poa_global,\n",
    "                                 pvtemps,\n",
    "                                 cec_module['alpha_sc'],\n",
    "                                 EgRef=1.121,\n",
    "                                 dEgdT=-0.0002677, **d))"
   ]
  },
  {
   "cell_type": "code",
   "execution_count": 78,
   "metadata": {},
   "outputs": [],
   "source": [
    "single_diode_out = pvlib.pvsystem.singlediode(photocurrent, saturation_current,\n",
    "                                              resistance_series, resistance_shunt, nNsVth)"
   ]
  },
  {
   "cell_type": "code",
   "execution_count": 79,
   "metadata": {},
   "outputs": [
    {
     "data": {
      "text/plain": [
       "Text(0, 0.5, 'DC Power (W)')"
      ]
     },
     "execution_count": 79,
     "metadata": {},
     "output_type": "execute_result"
    },
    {
     "data": {
      "image/png": "[encoded data removed]",
      "text/plain": [
       "<Figure size 432x288 with 1 Axes>"
      ]
     },
     "metadata": {
      "needs_background": "light"
     },
     "output_type": "display_data"
    }
   ],
   "source": [
    "single_diode_out[['p_mp']].plot()\n",
    "plt.ylabel('DC Power (W)')"
   ]
  },
  {
   "cell_type": "markdown",
   "metadata": {},
   "source": [
    "## AC power using SAPM"
   ]
  },
  {
   "cell_type": "markdown",
   "metadata": {},
   "source": [
    "Get the inverter database from the web"
   ]
  },
  {
   "cell_type": "code",
   "execution_count": null,
   "metadata": {},
   "outputs": [],
   "source": [
    "sapm_inverters = pvlib.pvsystem.retrieve_sam('sandiainverter')"
   ]
  },
  {
   "cell_type": "markdown",
   "metadata": {},
   "source": [
    "Choose a particular inverter"
   ]
  },
  {
   "cell_type": "code",
   "execution_count": null,
   "metadata": {},
   "outputs": [],
   "source": [
    "sapm_inverter = sapm_inverters['ABB__MICRO_0_25_I_OUTD_US_208_208V__CEC_2014_']\n",
    "sapm_inverter"
   ]
  },
  {
   "cell_type": "code",
   "execution_count": null,
   "metadata": {},
   "outputs": [],
   "source": [
    "p_acs = pd.DataFrame()\n",
    "p_acs['sapm'] = pvlib.pvsystem.snlinverter(sapm_out.v_mp, sapm_out.p_mp, sapm_inverter)\n",
    "p_acs['sd'] = pvlib.pvsystem.snlinverter(single_diode_out.v_mp, single_diode_out.p_mp, sapm_inverter)\n",
    "\n",
    "p_acs.plot()\n",
    "plt.ylabel('AC Power (W)')"
   ]
  },
  {
   "cell_type": "code",
   "execution_count": null,
   "metadata": {},
   "outputs": [],
   "source": [
    "diff = p_acs['sapm'] - p_acs['sd']\n",
    "diff.plot()\n",
    "plt.ylabel('SAPM - SD Power (W)')"
   ]
  },
  {
   "cell_type": "markdown",
   "metadata": {},
   "source": [
    "Plot just a few days."
   ]
  },
  {
   "cell_type": "code",
   "execution_count": null,
   "metadata": {},
   "outputs": [],
   "source": [
    "p_acs.loc['2015-07-05':'2015-07-06'].plot()"
   ]
  },
  {
   "cell_type": "markdown",
   "metadata": {},
   "source": [
    "Some statistics on the AC power"
   ]
  },
  {
   "cell_type": "code",
   "execution_count": null,
   "metadata": {},
   "outputs": [],
   "source": [
    "p_acs.describe()"
   ]
  },
  {
   "cell_type": "code",
   "execution_count": null,
   "metadata": {},
   "outputs": [],
   "source": [
    "p_acs.sum()"
   ]
  },
  {
   "cell_type": "code",
   "execution_count": null,
   "metadata": {},
   "outputs": [],
   "source": [
    "# create data for a y=x line\n",
    "p_ac_max = p_acs.max().max()\n",
    "yxline = np.arange(0, p_ac_max)\n",
    "\n",
    "fig = plt.figure(figsize=(12,12))\n",
    "ax = fig.add_subplot(111, aspect='equal')\n",
    "sc = ax.scatter(p_acs['sd'], p_acs['sapm'], c=poa_irrad.poa_global, alpha=1)  \n",
    "ax.plot(yxline, yxline, 'r', linewidth=3)\n",
    "ax.set_xlim(0, None)\n",
    "ax.set_ylim(0, None)\n",
    "ax.set_xlabel('Single Diode model')\n",
    "ax.set_ylabel('Sandia model')\n",
    "fig.colorbar(sc, label='POA Global (W/m**2)')"
   ]
  },
  {
   "cell_type": "markdown",
   "metadata": {},
   "source": [
    "We can change the value of color value ``c`` to see the sensitivity of model accuracy to measured meterological conditions. It can be useful to define a simple plotting function for this kind of exploratory analysis."
   ]
  },
  {
   "cell_type": "code",
   "execution_count": null,
   "metadata": {},
   "outputs": [],
   "source": [
    "def sapm_sd_scatter(c_data, label=None, **kwargs):\n",
    "    \"\"\"Display a scatter plot of SAPM p_ac vs. single diode p_ac.\n",
    "    \n",
    "    You need to re-execute this cell if you re-run the p_ac calculation.\n",
    "    \n",
    "    Parameters\n",
    "    ----------\n",
    "    c_data : array-like\n",
    "        Determines the color of each point on the scatter plot.\n",
    "        Must be same length as p_acs.\n",
    "        \n",
    "    kwargs passed to ``scatter``.\n",
    "    \n",
    "    Returns\n",
    "    -------\n",
    "    tuple of fig, ax objects\n",
    "    \"\"\"\n",
    "    \n",
    "    fig = plt.figure(figsize=(12,12))\n",
    "    ax = fig.add_subplot(111, aspect='equal')\n",
    "    sc = ax.scatter(p_acs['sd'], p_acs['sapm'], c=c_data, alpha=1, **kwargs)  \n",
    "    ax.plot(yxline, yxline, 'r', linewidth=3)\n",
    "    ax.set_xlim(0, None)\n",
    "    ax.set_ylim(0, None)\n",
    "    ax.set_xlabel('Single diode model power (W)')\n",
    "    ax.set_ylabel('Sandia model power (W)')\n",
    "    fig.colorbar(sc, label='{}'.format(label), shrink=0.75)\n",
    "    \n",
    "    return fig, ax"
   ]
  },
  {
   "cell_type": "code",
   "execution_count": null,
   "metadata": {},
   "outputs": [],
   "source": [
    "sapm_sd_scatter(tmy_data.DryBulb, label='Temperature (deg C)')"
   ]
  },
  {
   "cell_type": "code",
   "execution_count": null,
   "metadata": {},
   "outputs": [],
   "source": [
    "sapm_sd_scatter(tmy_data.DNI, label='DNI (W/m**2)')"
   ]
  },
  {
   "cell_type": "code",
   "execution_count": null,
   "metadata": {},
   "outputs": [],
   "source": [
    "sapm_sd_scatter(tmy_data.AOD, label='AOD')"
   ]
  },
  {
   "cell_type": "code",
   "execution_count": null,
   "metadata": {},
   "outputs": [],
   "source": [
    "sapm_sd_scatter(tmy_data.Wspd, label='Wind speed', vmax=10)"
   ]
  },
  {
   "cell_type": "markdown",
   "metadata": {},
   "source": [
    "Notice the use of the ``vmax`` keyword argument in the above example. The ``**kwargs`` pattern allows us to easily pass non-specified arguments to nested functions."
   ]
  },
  {
   "cell_type": "code",
   "execution_count": null,
   "metadata": {},
   "outputs": [],
   "source": [
    "def sapm_other_scatter(c_data, x_data, clabel=None, xlabel=None, aspect_equal=False, **kwargs):\n",
    "    \"\"\"Display a scatter plot of SAPM p_ac vs. something else.\n",
    "    \n",
    "    You need to re-execute this cell if you re-run the p_ac calculation.\n",
    "    \n",
    "    Parameters\n",
    "    ----------\n",
    "    c_data : array-like\n",
    "        Determines the color of each point on the scatter plot.\n",
    "        Must be same length as p_acs.\n",
    "    x_data : array-like\n",
    "        \n",
    "    kwargs passed to ``scatter``.\n",
    "    \n",
    "    Returns\n",
    "    -------\n",
    "    tuple of fig, ax objects\n",
    "    \"\"\"\n",
    "    \n",
    "    fig = plt.figure(figsize=(12,12))\n",
    "    \n",
    "    if aspect_equal:\n",
    "        ax = fig.add_subplot(111, aspect='equal')\n",
    "    else:\n",
    "        ax = fig.add_subplot(111)\n",
    "    sc = ax.scatter(x_data, p_acs['sapm'], c=c_data, alpha=1, cmap=mpl.cm.YlGnBu_r, **kwargs)  \n",
    "    ax.set_xlim(0, None)\n",
    "    ax.set_ylim(0, None)\n",
    "    ax.set_xlabel('{}'.format(xlabel))\n",
    "    ax.set_ylabel('Sandia model power (W)')\n",
    "    fig.colorbar(sc, label='{}'.format(clabel), shrink=0.75)\n",
    "    \n",
    "    return fig, ax"
   ]
  },
  {
   "cell_type": "code",
   "execution_count": null,
   "metadata": {},
   "outputs": [],
   "source": [
    "sapm_other_scatter(tmy_data.DryBulb, tmy_data.GHI, clabel='Temperature (deg C)', xlabel='GHI (W/m**2)')"
   ]
  },
  {
   "cell_type": "markdown",
   "metadata": {},
   "source": [
    "Next, we will assume that the SAPM model is representative of the real world performance so that we can use scipy's optimization routine to derive simulated PVUSA coefficients. You will need to install scipy to run these functions.\n",
    "\n",
    "Here's one PVUSA reference:\n",
    "\n",
    "http://www.nrel.gov/docs/fy09osti/45376.pdf\n"
   ]
  },
  {
   "cell_type": "code",
   "execution_count": null,
   "metadata": {},
   "outputs": [],
   "source": [
    "def pvusa(pvusa_data, a, b, c, d):\n",
    "    \"\"\"\n",
    "    Calculates system power according to the PVUSA equation\n",
    "    \n",
    "    P = I * (a + b*I + c*W + d*T)\n",
    "    \n",
    "    where\n",
    "    P is the output power,\n",
    "    I is the plane of array irradiance,\n",
    "    W is the wind speed, and\n",
    "    T is the temperature\n",
    "    \n",
    "    Parameters\n",
    "    ----------\n",
    "    pvusa_data : pd.DataFrame\n",
    "        Must contain the columns 'I', 'W', and 'T'\n",
    "    a : float\n",
    "        I coefficient\n",
    "    b : float\n",
    "        I*I coefficient\n",
    "    c : float\n",
    "        I*W coefficient\n",
    "    d : float\n",
    "        I*T coefficient\n",
    "    \n",
    "    Returns\n",
    "    -------\n",
    "    power : pd.Series\n",
    "        Power calculated using the PVUSA model.\n",
    "    \"\"\"\n",
    "    return pvusa_data['I'] * (a + b*pvusa_data['I'] + c*pvusa_data['W'] + d*pvusa_data['T'])"
   ]
  },
  {
   "cell_type": "code",
   "execution_count": null,
   "metadata": {},
   "outputs": [],
   "source": [
    "from scipy import optimize"
   ]
  },
  {
   "cell_type": "code",
   "execution_count": null,
   "metadata": {},
   "outputs": [],
   "source": [
    "pvusa_data = pd.DataFrame()\n",
    "pvusa_data['I'] = poa_irrad.poa_global\n",
    "pvusa_data['W'] = tmy_data.Wspd\n",
    "pvusa_data['T'] = tmy_data.DryBulb"
   ]
  },
  {
   "cell_type": "code",
   "execution_count": null,
   "metadata": {},
   "outputs": [],
   "source": [
    "popt, pcov = optimize.curve_fit(pvusa, pvusa_data.dropna(), p_acs.sapm.values, p0=(.0001,0.0001,.001,.001))\n",
    "print('optimized coefs:\\n{}'.format(popt))\n",
    "print('covariances:\\n{}'.format(pcov))"
   ]
  },
  {
   "cell_type": "code",
   "execution_count": null,
   "metadata": {},
   "outputs": [],
   "source": [
    "power_pvusa = pvusa(pvusa_data, *popt)\n",
    "\n",
    "fig, ax = sapm_other_scatter(tmy_data.DryBulb, power_pvusa, clabel='Temperature (deg C)',\n",
    "                             aspect_equal=True, xlabel='PVUSA (W)')\n",
    "\n",
    "maxmax = max(ax.get_xlim()[1], ax.get_ylim()[1])\n",
    "ax.set_ylim(None, maxmax)\n",
    "ax.set_xlim(None, maxmax)\n",
    "ax.plot(np.arange(maxmax), np.arange(maxmax), 'r')"
   ]
  }
 ],
 "metadata": {
  "kernelspec": {
   "display_name": "Python 3",
   "language": "python",
   "name": "python3"
  },
  "language_info": {
   "codemirror_mode": {
    "name": "ipython",
    "version": 3
   },
   "file_extension": ".py",
   "mimetype": "text/x-python",
   "name": "python",
   "nbconvert_exporter": "python",
   "pygments_lexer": "ipython3",
   "version": "3.7.5"
  }
 },
 "nbformat": 4,
 "nbformat_minor": 1
}
