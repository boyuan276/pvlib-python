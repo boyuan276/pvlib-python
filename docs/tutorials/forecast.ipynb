{
 "cells": [
  {
   "cell_type": "markdown",
   "metadata": {
    "collapsed": true
   },
   "source": [
    "# Forecast Tutorial\n",
    "\n",
    "This tutorial will walk through forecast data from Unidata forecast model data using the forecast.py module within pvlib.\n",
    "\n",
    "Table of contents:\n",
    "1. [Setup](#Setup)\n",
    "2. [Intialize and Test Each Forecast Model](#Instantiate-GFS-forecast-model)\n",
    "\n",
    "This tutorial has been tested against the following package versions:\n",
    "* Python 3.5.2\n",
    "* IPython 5.0.0\n",
    "* pandas 0.18.0\n",
    "* matplotlib 1.5.1\n",
    "* netcdf4 1.2.1\n",
    "* siphon 0.4.0\n",
    "\n",
    "It should work with other Python and Pandas versions. It requires pvlib >= 0.3.0 and IPython >= 3.0.\n",
    "\n",
    "Authors:\n",
    "* Derek Groenendyk (@moonraker), University of Arizona, November 2015\n",
    "* Will Holmgren (@wholmgren), University of Arizona, November 2015, January 2016, April 2016, July 2016"
   ]
  },
  {
   "cell_type": "markdown",
   "metadata": {},
   "source": [
    "## Setup"
   ]
  },
  {
   "cell_type": "code",
   "execution_count": null,
   "metadata": {},
   "outputs": [],
   "source": [
    "%matplotlib inline\n",
    "import matplotlib.pyplot as plt\n",
    "\n",
    "# built in python modules\n",
    "import datetime\n",
    "import os\n",
    "\n",
    "# python add-ons\n",
    "import numpy as np\n",
    "import pandas as pd\n",
    "\n",
    "# for accessing UNIDATA THREDD servers\n",
    "from siphon.catalog import TDSCatalog\n",
    "from siphon.ncss import NCSS\n",
    "\n",
    "import pvlib\n",
    "from pvlib.forecast import GFS, HRRR_ESRL, NAM, NDFD, HRRR, RAP"
   ]
  },
  {
   "cell_type": "code",
   "execution_count": null,
   "metadata": {},
   "outputs": [],
   "source": [
    "# Choose a location and time.\n",
    "# Tucson, AZ\n",
    "latitude = 32.2\n",
    "longitude = -110.9 \n",
    "tz = 'America/Phoenix'\n",
    "\n",
    "start = pd.Timestamp(datetime.date.today(), tz=tz) # today's date\n",
    "end = start + pd.Timedelta(days=7) # 7 days from today\n",
    "print(start, end)"
   ]
  },
  {
   "cell_type": "markdown",
   "metadata": {},
   "source": [
    "## GFS (0.5 deg)"
   ]
  },
  {
   "cell_type": "code",
   "execution_count": null,
   "metadata": {},
   "outputs": [],
   "source": [
    "from pvlib.forecast import GFS, HRRR_ESRL, NAM, NDFD, HRRR, RAP "
   ]
  },
  {
   "cell_type": "code",
   "execution_count": null,
   "metadata": {},
   "outputs": [],
   "source": [
    "# GFS model, defaults to 0.5 degree resolution\n",
    "fm = GFS()"
   ]
  },
  {
   "cell_type": "code",
   "execution_count": null,
   "metadata": {},
   "outputs": [],
   "source": [
    "# retrieve data\n",
    "data = fm.get_data(latitude, longitude, start, end)"
   ]
  },
  {
   "cell_type": "code",
   "execution_count": null,
   "metadata": {},
   "outputs": [],
   "source": [
    "data"
   ]
  },
  {
   "cell_type": "code",
   "execution_count": null,
   "metadata": {},
   "outputs": [],
   "source": [
    "data = fm.process_data(data)"
   ]
  },
  {
   "cell_type": "code",
   "execution_count": null,
   "metadata": {},
   "outputs": [],
   "source": [
    "data[['ghi', 'dni', 'dhi']].plot()"
   ]
  },
  {
   "cell_type": "code",
   "execution_count": null,
   "metadata": {},
   "outputs": [],
   "source": [
    "cs = fm.location.get_clearsky(data.index)"
   ]
  },
  {
   "cell_type": "code",
   "execution_count": null,
   "metadata": {},
   "outputs": [],
   "source": [
    "fig, ax = plt.subplots()\n",
    "cs['ghi'].plot(ax=ax, label='ineichen')\n",
    "data['ghi'].plot(ax=ax, label='gfs+larson')\n",
    "ax.set_ylabel('ghi')\n",
    "ax.legend()"
   ]
  },
  {
   "cell_type": "code",
   "execution_count": null,
   "metadata": {},
   "outputs": [],
   "source": [
    "fig, ax = plt.subplots()\n",
    "cs['dni'].plot(ax=ax, label='ineichen')\n",
    "data['dni'].plot(ax=ax, label='gfs+larson')\n",
    "ax.set_ylabel('ghi')\n",
    "ax.legend()"
   ]
  },
  {
   "cell_type": "code",
   "execution_count": null,
   "metadata": {},
   "outputs": [],
   "source": [
    "# retrieve data\n",
    "data = fm.get_processed_data(latitude, longitude, start, end)"
   ]
  },
  {
   "cell_type": "code",
   "execution_count": null,
   "metadata": {},
   "outputs": [],
   "source": [
    "data"
   ]
  },
  {
   "cell_type": "code",
   "execution_count": null,
   "metadata": {},
   "outputs": [],
   "source": [
    "data['temp_air'].plot()\n",
    "plt.ylabel('temperature (%s)' % fm.units['temp_air'])"
   ]
  },
  {
   "cell_type": "code",
   "execution_count": null,
   "metadata": {},
   "outputs": [],
   "source": [
    "cloud_vars = ['total_clouds', 'low_clouds', 'mid_clouds', 'high_clouds']"
   ]
  },
  {
   "cell_type": "code",
   "execution_count": null,
   "metadata": {
    "scrolled": false
   },
   "outputs": [],
   "source": [
    "for varname in cloud_vars:\n",
    "    data[varname].plot()\n",
    "plt.ylabel('Cloud cover' + ' %')\n",
    "plt.xlabel('Forecast Time ('+str(data.index.tz)+')')\n",
    "plt.title('GFS 0.5 deg')\n",
    "plt.legend(bbox_to_anchor=(1.18,1.0))"
   ]
  },
  {
   "cell_type": "code",
   "execution_count": null,
   "metadata": {},
   "outputs": [],
   "source": [
    "total_cloud_cover = data['total_clouds']"
   ]
  },
  {
   "cell_type": "code",
   "execution_count": null,
   "metadata": {},
   "outputs": [],
   "source": [
    "total_cloud_cover.plot(color='r', linewidth=2)\n",
    "plt.ylabel('Total cloud cover' + ' (%s)' % fm.units['total_clouds'])\n",
    "plt.xlabel('Forecast Time ('+str(data.index.tz)+')')\n",
    "plt.title('GFS 0.5 deg')"
   ]
  },
  {
   "cell_type": "markdown",
   "metadata": {},
   "source": [
    "## GFS (0.25 deg)"
   ]
  },
  {
   "cell_type": "code",
   "execution_count": null,
   "metadata": {},
   "outputs": [],
   "source": [
    "# GFS model at 0.25 degree resolution\n",
    "fm = GFS(resolution='quarter')"
   ]
  },
  {
   "cell_type": "code",
   "execution_count": null,
   "metadata": {},
   "outputs": [],
   "source": [
    "# retrieve data\n",
    "data = fm.get_processed_data(latitude, longitude, start, end)"
   ]
  },
  {
   "cell_type": "code",
   "execution_count": null,
   "metadata": {},
   "outputs": [],
   "source": [
    "for varname in cloud_vars:\n",
    "    data[varname].plot(ls='-', linewidth=2)\n",
    "plt.ylabel('Cloud cover' + ' %')\n",
    "plt.xlabel('Forecast Time ('+str(data.index.tz)+')')\n",
    "plt.title('GFS 0.25 deg')\n",
    "plt.legend(bbox_to_anchor=(1.18,1.0))"
   ]
  },
  {
   "cell_type": "code",
   "execution_count": null,
   "metadata": {},
   "outputs": [],
   "source": [
    "data"
   ]
  },
  {
   "cell_type": "markdown",
   "metadata": {
    "collapsed": true
   },
   "source": [
    "## NAM"
   ]
  },
  {
   "cell_type": "code",
   "execution_count": null,
   "metadata": {},
   "outputs": [],
   "source": [
    "fm = NAM()"
   ]
  },
  {
   "cell_type": "code",
   "execution_count": null,
   "metadata": {},
   "outputs": [],
   "source": [
    "# retrieve data\n",
    "data = fm.get_processed_data(latitude, longitude, start, end)"
   ]
  },
  {
   "cell_type": "code",
   "execution_count": null,
   "metadata": {
    "scrolled": false
   },
   "outputs": [],
   "source": [
    "for varname in cloud_vars:\n",
    "    data[varname].plot(ls='-', linewidth=2)\n",
    "plt.ylabel('Cloud cover' + ' %')\n",
    "plt.xlabel('Forecast Time ('+str(data.index.tz)+')')\n",
    "plt.title('NAM')\n",
    "plt.legend(bbox_to_anchor=(1.18,1.0))"
   ]
  },
  {
   "cell_type": "code",
   "execution_count": null,
   "metadata": {},
   "outputs": [],
   "source": [
    "data['ghi'].plot(linewidth=2, ls='-')\n",
    "plt.ylabel('GHI W/m**2')\n",
    "plt.xlabel('Forecast Time ('+str(data.index.tz)+')')"
   ]
  },
  {
   "cell_type": "code",
   "execution_count": null,
   "metadata": {},
   "outputs": [],
   "source": [
    "data"
   ]
  },
  {
   "cell_type": "markdown",
   "metadata": {
    "collapsed": true
   },
   "source": [
    "## NDFD"
   ]
  },
  {
   "cell_type": "code",
   "execution_count": null,
   "metadata": {},
   "outputs": [],
   "source": [
    "fm = NDFD()"
   ]
  },
  {
   "cell_type": "code",
   "execution_count": null,
   "metadata": {},
   "outputs": [],
   "source": [
    "# retrieve data\n",
    "data = fm.get_processed_data(latitude, longitude, start, end)"
   ]
  },
  {
   "cell_type": "code",
   "execution_count": null,
   "metadata": {},
   "outputs": [],
   "source": [
    "total_cloud_cover = data['total_clouds']\n",
    "temp = data['temp_air']\n",
    "wind = data['wind_speed']"
   ]
  },
  {
   "cell_type": "code",
   "execution_count": null,
   "metadata": {},
   "outputs": [],
   "source": [
    "total_cloud_cover.plot(color='r', linewidth=2)\n",
    "plt.ylabel('Total cloud cover' + ' (%s)' % fm.units['total_clouds'])\n",
    "plt.xlabel('Forecast Time ('+str(data.index.tz)+')')\n",
    "plt.title('NDFD')\n",
    "plt.ylim(0,100)"
   ]
  },
  {
   "cell_type": "code",
   "execution_count": null,
   "metadata": {},
   "outputs": [],
   "source": [
    "temp.plot(color='r', linewidth=2)\n",
    "plt.ylabel('Temperature' + ' (%s)' % fm.units['temp_air'])\n",
    "plt.xlabel('Forecast Time ('+str(data.index.tz)+')')    "
   ]
  },
  {
   "cell_type": "code",
   "execution_count": null,
   "metadata": {
    "scrolled": true
   },
   "outputs": [],
   "source": [
    "wind.plot(color='r', linewidth=2)\n",
    "plt.ylabel('Wind Speed' + ' (%s)' % fm.units['wind_speed'])\n",
    "plt.xlabel('Forecast Time ('+str(data.index.tz)+')')   "
   ]
  },
  {
   "cell_type": "code",
   "execution_count": null,
   "metadata": {
    "scrolled": true
   },
   "outputs": [],
   "source": [
    "data"
   ]
  },
  {
   "cell_type": "markdown",
   "metadata": {
    "collapsed": true
   },
   "source": [
    "## RAP"
   ]
  },
  {
   "cell_type": "code",
   "execution_count": null,
   "metadata": {},
   "outputs": [],
   "source": [
    "fm = RAP(resolution=20)"
   ]
  },
  {
   "cell_type": "code",
   "execution_count": null,
   "metadata": {},
   "outputs": [],
   "source": [
    "# retrieve data\n",
    "data = fm.get_processed_data(latitude, longitude, start, end)"
   ]
  },
  {
   "cell_type": "code",
   "execution_count": null,
   "metadata": {},
   "outputs": [],
   "source": [
    "cloud_vars = ['total_clouds', 'high_clouds', 'mid_clouds', 'low_clouds']"
   ]
  },
  {
   "cell_type": "code",
   "execution_count": null,
   "metadata": {
    "scrolled": true
   },
   "outputs": [],
   "source": [
    "for varname in cloud_vars:\n",
    "    data[varname].plot(ls='-', linewidth=2)\n",
    "plt.ylabel('Cloud cover' + ' %')\n",
    "plt.xlabel('Forecast Time ('+str(data.index.tz)+')')\n",
    "plt.title('RAP')\n",
    "plt.legend(bbox_to_anchor=(1.18,1.0))"
   ]
  },
  {
   "cell_type": "code",
   "execution_count": null,
   "metadata": {
    "scrolled": true
   },
   "outputs": [],
   "source": [
    "data"
   ]
  },
  {
   "cell_type": "markdown",
   "metadata": {
    "collapsed": true
   },
   "source": [
    "## HRRR"
   ]
  },
  {
   "cell_type": "code",
   "execution_count": null,
   "metadata": {},
   "outputs": [],
   "source": [
    "fm = HRRR()"
   ]
  },
  {
   "cell_type": "code",
   "execution_count": null,
   "metadata": {},
   "outputs": [],
   "source": [
    "data_raw = fm.get_data(latitude, longitude, start, end)"
   ]
  },
  {
   "cell_type": "code",
   "execution_count": null,
   "metadata": {},
   "outputs": [],
   "source": [
    "# The HRRR model pulls in u, v winds for 2 layers above ground (10 m, 80 m)\n",
    "# They are labeled as _0, _1 in the raw data\n",
    "data_raw"
   ]
  },
  {
   "cell_type": "code",
   "execution_count": null,
   "metadata": {},
   "outputs": [],
   "source": [
    "data = fm.get_processed_data(latitude, longitude, start, end)"
   ]
  },
  {
   "cell_type": "code",
   "execution_count": null,
   "metadata": {},
   "outputs": [],
   "source": [
    "cloud_vars = ['total_clouds', 'high_clouds', 'mid_clouds', 'low_clouds']"
   ]
  },
  {
   "cell_type": "code",
   "execution_count": null,
   "metadata": {
    "scrolled": true
   },
   "outputs": [],
   "source": [
    "for varname in cloud_vars:\n",
    "    data[varname].plot(ls='-', linewidth=2)\n",
    "plt.ylabel('Cloud cover' + ' %')\n",
    "plt.xlabel('Forecast Time ('+str(data.index.tz)+')')\n",
    "plt.title('RAP')\n",
    "plt.legend(bbox_to_anchor=(1.18,1.0))"
   ]
  },
  {
   "cell_type": "code",
   "execution_count": null,
   "metadata": {},
   "outputs": [],
   "source": [
    "data['temp_air'].plot(color='r', linewidth=2)\n",
    "plt.ylabel('Temperature' + ' (%s)' % fm.units['temp_air'])\n",
    "plt.xlabel('Forecast Time ('+str(data.index.tz)+')')    "
   ]
  },
  {
   "cell_type": "code",
   "execution_count": null,
   "metadata": {
    "scrolled": true
   },
   "outputs": [],
   "source": [
    "data['wind_speed'].plot(color='r', linewidth=2)\n",
    "plt.ylabel('Wind Speed' + ' (%s)' % fm.units['wind_speed'])\n",
    "plt.xlabel('Forecast Time ('+str(data.index.tz)+')')   "
   ]
  },
  {
   "cell_type": "code",
   "execution_count": null,
   "metadata": {},
   "outputs": [],
   "source": [
    "data"
   ]
  },
  {
   "cell_type": "markdown",
   "metadata": {
    "collapsed": true
   },
   "source": [
    "## HRRR (ESRL)"
   ]
  },
  {
   "cell_type": "code",
   "execution_count": null,
   "metadata": {},
   "outputs": [],
   "source": [
    "fm = HRRR_ESRL()"
   ]
  },
  {
   "cell_type": "code",
   "execution_count": null,
   "metadata": {},
   "outputs": [],
   "source": [
    "# retrieve data\n",
    "data = fm.get_processed_data(latitude, longitude, start, end)"
   ]
  },
  {
   "cell_type": "code",
   "execution_count": null,
   "metadata": {},
   "outputs": [],
   "source": [
    "cloud_vars = ['total_clouds','high_clouds','mid_clouds','low_clouds']"
   ]
  },
  {
   "cell_type": "code",
   "execution_count": null,
   "metadata": {
    "scrolled": true
   },
   "outputs": [],
   "source": [
    "for varname in cloud_vars:\n",
    "    data[varname].plot(ls='-', linewidth=2)\n",
    "plt.ylabel('Cloud cover' + ' %')\n",
    "plt.xlabel('Forecast Time ('+str(data.index.tz)+')')\n",
    "plt.title('HRRR_ESRL')\n",
    "plt.legend(bbox_to_anchor=(1.18,1.0))"
   ]
  },
  {
   "cell_type": "code",
   "execution_count": null,
   "metadata": {},
   "outputs": [],
   "source": [
    "data['ghi'].plot(linewidth=2, ls='-')\n",
    "plt.ylabel('GHI W/m**2')\n",
    "plt.xlabel('Forecast Time ('+str(data.index.tz)+')')"
   ]
  },
  {
   "cell_type": "markdown",
   "metadata": {},
   "source": [
    "## Quick power calculation"
   ]
  },
  {
   "cell_type": "code",
   "execution_count": null,
   "metadata": {},
   "outputs": [],
   "source": [
    "from pvlib.pvsystem import PVSystem, retrieve_sam\n",
    "from pvlib.modelchain import ModelChain\n",
    "\n",
    "sandia_modules = retrieve_sam('SandiaMod')\n",
    "sapm_inverters = retrieve_sam('cecinverter')\n",
    "module = sandia_modules['Canadian_Solar_CS5P_220M___2009_']\n",
    "inverter = sapm_inverters['ABB__MICRO_0_25_I_OUTD_US_208_208V__CEC_2014_']\n",
    "\n",
    "system = PVSystem(module_parameters=module,\n",
    "                  inverter_parameters=inverter)\n",
    "\n",
    "# fx is a common abbreviation for forecast\n",
    "fx_model = GFS()\n",
    "fx_data = fx_model.get_processed_data(latitude, longitude, start, end)\n",
    "\n",
    "# use a ModelChain object to calculate modeling intermediates\n",
    "mc = ModelChain(system, fx_model.location,\n",
    "                orientation_strategy='south_at_latitude_tilt')\n",
    "\n",
    "# extract relevant data for model chain\n",
    "mc.run_model(fx_data.index, weather=fx_data)"
   ]
  },
  {
   "cell_type": "code",
   "execution_count": null,
   "metadata": {},
   "outputs": [],
   "source": [
    "mc.total_irrad.plot()"
   ]
  },
  {
   "cell_type": "code",
   "execution_count": null,
   "metadata": {},
   "outputs": [],
   "source": [
    "mc.temps.plot()"
   ]
  },
  {
   "cell_type": "code",
   "execution_count": null,
   "metadata": {},
   "outputs": [],
   "source": [
    "mc.ac.plot()"
   ]
  },
  {
   "cell_type": "code",
   "execution_count": null,
   "metadata": {},
   "outputs": [],
   "source": []
  }
 ],
 "metadata": {
  "kernelspec": {
   "display_name": "Python 3",
   "language": "python",
   "name": "python3"
  },
  "language_info": {
   "codemirror_mode": {
    "name": "ipython",
    "version": 3
   },
   "file_extension": ".py",
   "mimetype": "text/x-python",
   "name": "python",
   "nbconvert_exporter": "python",
   "pygments_lexer": "ipython3",
   "version": "3.7.5"
  }
 },
 "nbformat": 4,
 "nbformat_minor": 1
}
