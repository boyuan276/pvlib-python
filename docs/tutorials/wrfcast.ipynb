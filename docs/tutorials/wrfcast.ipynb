{
 "cells": [
  {
   "cell_type": "markdown",
   "metadata": {},
   "source": [
    "# WRFcast Tutorial\n",
    "\n",
    "This tutorial will walk through forecast data from your own WRF forecast model data using the wrfcast.py module within pvlib.\n",
    "\n",
    "This tutorial has been tested against the following package versions:\n",
    "* Python \n",
    "* IPython \n",
    "* pandas \n",
    "* matplotlib \n",
    "* netcdf4 1.4.2 \n",
    "\n",
    "It should work with other Python and Pandas versions. It requires pvlib >= 0.3.0 and IPython >= 3.0.\n",
    "\n",
    "Authors:\n",
    "* Jeffrey Sward (jas983@cornell.edu), Cornell University, November 2019"
   ]
  },
  {
   "cell_type": "code",
   "execution_count": null,
   "metadata": {},
   "outputs": [],
   "source": [
    "%matplotlib inline\n",
    "import matplotlib.pyplot as plt\n",
    "\n",
    "# built in python modules\n",
    "import datetime\n",
    "import os\n",
    "import inspect\n",
    "import sys\n",
    "\n",
    "# python add-ons\n",
    "import numpy as np\n",
    "import pandas as pd\n",
    "import xarray as xr\n",
    "import netCDF4\n",
    "import wrf\n",
    "\n",
    "# # Import the pvlib module\n",
    "if sys.platform == 'linux':\n",
    "    sys.path.append('/home/jsward/Documents/01_Research/01_Renewable_Analysis/WRF/pvlib-python')\n",
    "import pvlib\n",
    "from pvlib.wrfcast import WRF"
   ]
  },
  {
   "cell_type": "code",
   "execution_count": null,
   "metadata": {},
   "outputs": [],
   "source": [
    "# Find the absolute file path to your pvlib installation\n",
    "pvlib_abspath = os.path.dirname(os.path.abspath(inspect.getfile(pvlib)))\n",
    "\n",
    "# absolute path to WRF data file\n",
    "datapath = os.path.join(pvlib_abspath, 'data', 'wrfout_d01_2011-01-24_01:00:00')\n",
    "\n",
    "# Read in the wrfout file using the netCDF4.Dataset method (I think you can also do this with an xarray method)\n",
    "netcdf_data = netCDF4.Dataset(datapath)\n",
    "netcdf_data"
   ]
  },
  {
   "cell_type": "code",
   "execution_count": null,
   "metadata": {
    "scrolled": true
   },
   "outputs": [],
   "source": [
    "# Create an xarray.Dataset from the wrf qurery_variables.\n",
    "query_variables = [\n",
    "            'Times',\n",
    "            'T2',\n",
    "            'U10',\n",
    "            'V10',\n",
    "            'CLDFRA',\n",
    "            'SWDDNI',\n",
    "            'SWDDIF'\n",
    "            ]\n",
    "first = True\n",
    "for key in query_variables:\n",
    "    var = wrf.getvar(netcdf_data, key, timeidx=wrf.ALL_TIMES)\n",
    "    if first:\n",
    "        solar_data = var\n",
    "        first = False\n",
    "    else:\n",
    "        solar_data = xr.merge([solar_data, var])\n",
    "\n",
    "variables = {\n",
    "            'times': 'times',\n",
    "            'XLAT': 'lat',\n",
    "            'XLONG': 'lon',\n",
    "            'T2': 'temp_air',\n",
    "            'U10': 'wind_speed_u',\n",
    "            'V10': 'wind_speed_v',\n",
    "            'CLDFRA': 'total_clouds',\n",
    "            'SWDDNI': 'dni',\n",
    "            'SWDDIF': 'dhi' \n",
    "            }\n",
    "solar_data = xr.Dataset.rename(solar_data, variables)\n",
    "times = solar_data.times\n",
    "ntimes = solar_data.sizes['Time']\n",
    "nlat = solar_data.sizes['south_north']\n",
    "nlon = solar_data.sizes['west_east']\n",
    "solar_data"
   ]
  },
  {
   "cell_type": "code",
   "execution_count": null,
   "metadata": {},
   "outputs": [],
   "source": [
    "# Explore how the WRF forecast model behaves\n",
    "fm = WRF()\n",
    "wind_speed = fm.uv_to_speed(solar_data)\n",
    "temp_air = fm.kelvin_to_celsius(solar_data['temp_air'])\n",
    "# ghi = fm.dni_and_dhi_to_ghi(solar_data['dni'], solar_data['dhi'])"
   ]
  },
  {
   "cell_type": "code",
   "execution_count": null,
   "metadata": {},
   "outputs": [],
   "source": [
    "# Convert xarray Datasets to a pandas DataFrames\n",
    "solar_data = solar_data.to_dataframe()\n",
    "times = times.to_dataframe()\n",
    "solar_data"
   ]
  },
  {
   "cell_type": "code",
   "execution_count": null,
   "metadata": {
    "scrolled": true
   },
   "outputs": [],
   "source": [
    "# Run the solar position algorithm for time, lat, and lon indices, and concatonate them into a single DataFrame\n",
    "numerical_time_indices = range(0, ntimes)\n",
    "lat_indices = range(0, nlat)\n",
    "lon_indices = range(0, nlon)\n",
    "first = True\n",
    "for num_time_idx in numerical_time_indices:\n",
    "    time = times.index.get_level_values('Time')[num_time_idx]\n",
    "    print(f'Time Index: {time}')\n",
    "    for lat_idx in lat_indices:\n",
    "        for lon_idx in lon_indices:\n",
    "            \n",
    "#             print(f'Time Index: {time}')\n",
    "#             print(f'\\tLatitude index: {lat_idx}')\n",
    "#             print(f'\\t\\tLongitude index: {lon_idx}')\n",
    "            \n",
    "            solpos_new = pvlib.solarposition.spa_xarray_python(time, \n",
    "                                        solar_data['lat'].loc[time, 0, lat_idx, lon_idx], \n",
    "                                        solar_data['lon'].loc[time, 0, lat_idx, lon_idx], lat_idx, lon_idx)\n",
    "            \n",
    "            if first:\n",
    "                solpos = solpos_new\n",
    "                first = False\n",
    "            else:\n",
    "                solpos = pd.concat([solpos, solpos_new])\n",
    "            "
   ]
  },
  {
   "cell_type": "code",
   "execution_count": null,
   "metadata": {},
   "outputs": [],
   "source": [
    "solpos"
   ]
  },
  {
   "cell_type": "code",
   "execution_count": null,
   "metadata": {},
   "outputs": [],
   "source": [
    "solpos = solpos.to_dataframe()\n",
    "solar_data['zenith'] = solpos['zenith']\n",
    "solar_data = solar_data.to_xarray()"
   ]
  },
  {
   "cell_type": "code",
   "execution_count": null,
   "metadata": {},
   "outputs": [],
   "source": [
    "solpos"
   ]
  },
  {
   "cell_type": "code",
   "execution_count": null,
   "metadata": {},
   "outputs": [],
   "source": [
    "new_filename_1 = './solpos_d01_2011-01-24_01:00:00.nc'\n",
    "solpos.to_netcdf(path=new_filename_1)"
   ]
  },
  {
   "cell_type": "code",
   "execution_count": null,
   "metadata": {},
   "outputs": [],
   "source": []
  }
 ],
 "metadata": {
  "kernelspec": {
   "display_name": "Python 3",
   "language": "python",
   "name": "python3"
  },
  "language_info": {
   "codemirror_mode": {
    "name": "ipython",
    "version": 3
   },
   "file_extension": ".py",
   "mimetype": "text/x-python",
   "name": "python",
   "nbconvert_exporter": "python",
   "pygments_lexer": "ipython3",
   "version": "3.7.5"
  }
 },
 "nbformat": 4,
 "nbformat_minor": 2
}
