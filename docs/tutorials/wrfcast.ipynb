{
 "cells": [
  {
   "cell_type": "markdown",
   "metadata": {},
   "source": [
    "# WRFcast Tutorial\n",
    "\n",
    "This tutorial will walk through forecast data from your own WRF forecast model data using the wrfcast.py module within pvlib.\n",
    "\n",
    "This tutorial has been tested against the following package versions:\n",
    "* Python \n",
    "* IPython \n",
    "* pandas \n",
    "* matplotlib \n",
    "* netcdf4 1.4.2 \n",
    "\n",
    "It should work with other Python and Pandas versions. It requires pvlib >= 0.3.0 and IPython >= 3.0.\n",
    "\n",
    "Authors:\n",
    "* Jeffrey Sward (jas983@cornell.edu), Cornell University, November 2019"
   ]
  },
  {
   "cell_type": "code",
   "execution_count": 30,
   "metadata": {},
   "outputs": [],
   "source": [
    "%matplotlib inline\n",
    "import matplotlib.pyplot as plt\n",
    "\n",
    "# built in python modules\n",
    "import datetime\n",
    "import os\n",
    "import inspect\n",
    "\n",
    "# python add-ons\n",
    "import numpy as np\n",
    "import pandas as pd\n",
    "import xarray as xr\n",
    "import netCDF4\n",
    "import wrf\n",
    "import pvlib\n",
    "from pvlib.wrfcast import WRF"
   ]
  },
  {
   "cell_type": "code",
   "execution_count": 3,
   "metadata": {},
   "outputs": [],
   "source": [
    "# Find the absolute file path to your pvlib installation\n",
    "pvlib_abspath = os.path.dirname(os.path.abspath(inspect.getfile(pvlib)))\n",
    "\n",
    "# absolute path to WRF data file\n",
    "datapath = os.path.join(pvlib_abspath, 'data', 'wrfout_d01_2011-01-24_01:00:00')"
   ]
  },
  {
   "cell_type": "code",
   "execution_count": 48,
   "metadata": {},
   "outputs": [],
   "source": [
    "netcdf_data = netCDF4.Dataset(datapath)"
   ]
  },
  {
   "cell_type": "code",
   "execution_count": 65,
   "metadata": {},
   "outputs": [],
   "source": [
    "query_variables = [\n",
    "            'T2', # T2\n",
    "            'U10',\n",
    "            'V10',\n",
    "            'CLDFRA',\n",
    "            'SWDDNI',\n",
    "            'SWDDIF'\n",
    "            ]\n",
    "first = True\n",
    "for key in query_variables:\n",
    "    var = wrf.getvar(netcdf_data, key)\n",
    "    if first:\n",
    "        solar_data = var\n",
    "        first = False\n",
    "    else:\n",
    "        solar_data = xr.merge([solar_data, var])\n"
   ]
  },
  {
   "cell_type": "code",
   "execution_count": 66,
   "metadata": {},
   "outputs": [
    {
     "data": {
      "text/html": [
       "<pre>&lt;xarray.Dataset&gt;\n",
       "Dimensions:  (bottom_top: 35, south_north: 191, south_north_stag: 192, west_east: 191, west_east_stag: 192)\n",
       "Coordinates:\n",
       "    XLONG    (south_north, west_east) float32 -95.43335 -95.308044 ... -64.11832\n",
       "    XLAT     (south_north, west_east) float32 30.952759 30.950832 ... 47.507103\n",
       "    XTIME    float32 780.0\n",
       "    Time     datetime64[ns] 2011-01-24T01:00:00\n",
       "Dimensions without coordinates: bottom_top, south_north, south_north_stag, west_east, west_east_stag\n",
       "Data variables:\n",
       "    T2       (south_north, west_east) float32 287.62427 287.5925 ... 263.8601\n",
       "    U        (bottom_top, south_north, west_east_stag) float32 0.55619085 ... 4.416398\n",
       "    V        (bottom_top, south_north_stag, west_east) float32 1.0613657 ... 10.647256\n",
       "    CLDFRA   (bottom_top, south_north, west_east) float32 0.0 0.0 ... 0.0 0.0\n",
       "    SWDDNI   (south_north, west_east) float32 0.0 0.0 0.0 0.0 ... 0.0 0.0 0.0\n",
       "    SWDDIF   (south_north, west_east) float32 0.0 0.0 0.0 0.0 ... 0.0 0.0 0.0</pre>"
      ],
      "text/plain": [
       "<xarray.Dataset>\n",
       "Dimensions:  (bottom_top: 35, south_north: 191, south_north_stag: 192, west_east: 191, west_east_stag: 192)\n",
       "Coordinates:\n",
       "    XLONG    (south_north, west_east) float32 -95.43335 -95.308044 ... -64.11832\n",
       "    XLAT     (south_north, west_east) float32 30.952759 30.950832 ... 47.507103\n",
       "    XTIME    float32 780.0\n",
       "    Time     datetime64[ns] 2011-01-24T01:00:00\n",
       "Dimensions without coordinates: bottom_top, south_north, south_north_stag, west_east, west_east_stag\n",
       "Data variables:\n",
       "    T2       (south_north, west_east) float32 287.62427 287.5925 ... 263.8601\n",
       "    U        (bottom_top, south_north, west_east_stag) float32 0.55619085 ... 4.416398\n",
       "    V        (bottom_top, south_north_stag, west_east) float32 1.0613657 ... 10.647256\n",
       "    CLDFRA   (bottom_top, south_north, west_east) float32 0.0 0.0 ... 0.0 0.0\n",
       "    SWDDNI   (south_north, west_east) float32 0.0 0.0 0.0 0.0 ... 0.0 0.0 0.0\n",
       "    SWDDIF   (south_north, west_east) float32 0.0 0.0 0.0 0.0 ... 0.0 0.0 0.0"
      ]
     },
     "execution_count": 66,
     "metadata": {},
     "output_type": "execute_result"
    }
   ],
   "source": [
    "solar_data"
   ]
  },
  {
   "cell_type": "code",
   "execution_count": null,
   "metadata": {},
   "outputs": [],
   "source": []
  }
 ],
 "metadata": {
  "kernelspec": {
   "display_name": "Python 3",
   "language": "python",
   "name": "python3"
  },
  "language_info": {
   "codemirror_mode": {
    "name": "ipython",
    "version": 3
   },
   "file_extension": ".py",
   "mimetype": "text/x-python",
   "name": "python",
   "nbconvert_exporter": "python",
   "pygments_lexer": "ipython3",
   "version": "3.7.5"
  }
 },
 "nbformat": 4,
 "nbformat_minor": 2
}
