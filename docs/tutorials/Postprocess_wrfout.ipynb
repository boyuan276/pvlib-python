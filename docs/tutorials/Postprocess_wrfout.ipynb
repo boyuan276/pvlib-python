{
 "cells": [
  {
   "cell_type": "markdown",
   "metadata": {},
   "source": [
    "# Postprocess wrfout file Tutorial\n",
    "\n",
    "This tutorial will walk through postprocessing forecast data from your own WRF forecast model data using the wrfcast.py module within pvlib.\n",
    "\n",
    "This tutorial has been tested against the following package versions:\n",
    "* Python \n",
    "* IPython \n",
    "* pandas \n",
    "* matplotlib \n",
    "* netcdf4 1.4.2 \n",
    "\n",
    "It should work with other Python and Pandas versions. It requires pvlib >= 0.3.0 and IPython >= 3.0.\n",
    "\n",
    "Authors:\n",
    "* Jeffrey Sward (jas983@cornell.edu), Cornell University, November 2019"
   ]
  },
  {
   "cell_type": "code",
   "execution_count": 18,
   "metadata": {},
   "outputs": [],
   "source": [
    "%matplotlib inline\n",
    "import matplotlib.pyplot as plt\n",
    "\n",
    "# built in python modules\n",
    "import datetime\n",
    "import os\n",
    "import inspect\n",
    "import sys\n",
    "\n",
    "# python add-ons\n",
    "import numpy as np\n",
    "import pandas as pd\n",
    "import xarray as xr\n",
    "import netCDF4\n",
    "import wrf\n",
    "\n",
    "# Import the pvlib module\n",
    "if sys.platform == 'linux':\n",
    "    sys.path.append('/home/jsward/Documents/01_Research/01_Renewable_Analysis/WRF/pvlib-python')\n",
    "import pvlib\n",
    "from pvlib.wrfcast import WRF"
   ]
  },
  {
   "cell_type": "code",
   "execution_count": 19,
   "metadata": {},
   "outputs": [],
   "source": [
    "# Find the absolute file path to your pvlib installation\n",
    "pvlib_abspath = os.path.dirname(os.path.abspath(inspect.getfile(pvlib)))\n",
    "\n",
    "# absolute path to WRF data file\n",
    "datapath = os.path.join(pvlib_abspath, 'data', 'wrfout_d01_2011-01-24_01:00:00')\n",
    "\n",
    "# Read in the wrfout file using the netCDF4.Dataset method (I think you can also do this with an xarray method)\n",
    "netcdf_data = netCDF4.Dataset(datapath)"
   ]
  },
  {
   "cell_type": "code",
   "execution_count": 20,
   "metadata": {},
   "outputs": [
    {
     "data": {
      "text/html": [
       "<pre>&lt;xarray.Dataset&gt;\n",
       "Dimensions:         (Time: 24, bottom_top: 35, south_north: 191, west_east: 191)\n",
       "Coordinates:\n",
       "  * Time            (Time) datetime64[ns] 2011-01-24T01:00:00 ... 2011-01-25\n",
       "    lon             (south_north, west_east) float32 -95.43335 ... -64.11832\n",
       "    lat             (south_north, west_east) float32 30.952759 ... 47.507103\n",
       "Dimensions without coordinates: bottom_top, south_north, west_east\n",
       "Data variables:\n",
       "    temp_air        (Time, south_north, west_east) float32 287.62427 ... 264.03226\n",
       "    wind_speed_u    (Time, south_north, west_east) float32 0.31499797 ... 17.972435\n",
       "    wind_speed_v    (Time, south_north, west_east) float32 1.1208413 ... -1.0850167\n",
       "    cloud_fraction  (Time, bottom_top, south_north, west_east) float32 0.0 ... 0.0\n",
       "    cos_zenith      (Time, south_north, west_east) float32 -0.23945779 ... -0.47179896\n",
       "    dni             (Time, south_north, west_east) float32 0.0 0.0 ... 0.0 0.0\n",
       "    dhi             (Time, south_north, west_east) float32 0.0 0.0 ... 0.0 0.0</pre>"
      ],
      "text/plain": [
       "<xarray.Dataset>\n",
       "Dimensions:         (Time: 24, bottom_top: 35, south_north: 191, west_east: 191)\n",
       "Coordinates:\n",
       "  * Time            (Time) datetime64[ns] 2011-01-24T01:00:00 ... 2011-01-25\n",
       "    lon             (south_north, west_east) float32 -95.43335 ... -64.11832\n",
       "    lat             (south_north, west_east) float32 30.952759 ... 47.507103\n",
       "Dimensions without coordinates: bottom_top, south_north, west_east\n",
       "Data variables:\n",
       "    temp_air        (Time, south_north, west_east) float32 287.62427 ... 264.03226\n",
       "    wind_speed_u    (Time, south_north, west_east) float32 0.31499797 ... 17.972435\n",
       "    wind_speed_v    (Time, south_north, west_east) float32 1.1208413 ... -1.0850167\n",
       "    cloud_fraction  (Time, bottom_top, south_north, west_east) float32 0.0 ... 0.0\n",
       "    cos_zenith      (Time, south_north, west_east) float32 -0.23945779 ... -0.47179896\n",
       "    dni             (Time, south_north, west_east) float32 0.0 0.0 ... 0.0 0.0\n",
       "    dhi             (Time, south_north, west_east) float32 0.0 0.0 ... 0.0 0.0"
      ]
     },
     "execution_count": 20,
     "metadata": {},
     "output_type": "execute_result"
    }
   ],
   "source": [
    "# Create an xarray.Dataset from the wrf qurery_variables.\n",
    "query_variables = [\n",
    "            'Times',\n",
    "            'T2',\n",
    "            'U10',\n",
    "            'V10',\n",
    "            'CLDFRA',\n",
    "            'COSZEN',\n",
    "            'SWDDNI',\n",
    "            'SWDDIF'\n",
    "            ]\n",
    "first = True\n",
    "for key in query_variables:\n",
    "    var = wrf.getvar(netcdf_data, key, timeidx=wrf.ALL_TIMES)\n",
    "    if first:\n",
    "        met_data = var\n",
    "        first = False\n",
    "    else:\n",
    "        met_data = xr.merge([met_data, var])\n",
    "\n",
    "variables = {\n",
    "            'times': 'times',\n",
    "            'XLAT': 'lat',\n",
    "            'XLONG': 'lon',\n",
    "            'T2': 'temp_air',\n",
    "            'U10': 'wind_speed_u',\n",
    "            'V10': 'wind_speed_v',\n",
    "            'CLDFRA': 'cloud_fraction',\n",
    "            'COSZEN': 'cos_zenith',\n",
    "            'SWDDNI': 'dni',\n",
    "            'SWDDIF': 'dhi' \n",
    "            }\n",
    "met_data = xr.Dataset.rename(met_data, variables)\n",
    "met_data = xr.Dataset.reset_coords(met_data, ['XTIME'], drop=True)\n",
    "times = met_data.times\n",
    "met_data = xr.Dataset.set_coords(met_data, ['times'])\n",
    "met_data = xr.Dataset.reset_coords(met_data, ['times'], drop=True)\n",
    "ntimes = met_data.sizes['Time']\n",
    "nlat = met_data.sizes['south_north']\n",
    "nlon = met_data.sizes['west_east']\n",
    "met_data"
   ]
  },
  {
   "cell_type": "code",
   "execution_count": 21,
   "metadata": {},
   "outputs": [
    {
     "data": {
      "text/html": [
       "<pre>&lt;xarray.Dataset&gt;\n",
       "Dimensions:         (Time: 24, bottom_top: 35, south_north: 191, west_east: 191)\n",
       "Coordinates:\n",
       "  * Time            (Time) datetime64[ns] 2011-01-24T01:00:00 ... 2011-01-25\n",
       "    lon             (south_north, west_east) float32 -95.43335 ... -64.11832\n",
       "    lat             (south_north, west_east) float32 30.952759 ... 47.507103\n",
       "Dimensions without coordinates: bottom_top, south_north, west_east\n",
       "Data variables:\n",
       "    temp_air        (Time, south_north, west_east) float32 287.62427 ... 264.03226\n",
       "    wind_speed_u    (Time, south_north, west_east) float32 0.31499797 ... 17.972435\n",
       "    wind_speed_v    (Time, south_north, west_east) float32 1.1208413 ... -1.0850167\n",
       "    cloud_fraction  (Time, bottom_top, south_north, west_east) float32 0.0 ... 0.0\n",
       "    cos_zenith      (Time, south_north, west_east) float32 -0.23945779 ... -0.47179896\n",
       "    dni             (Time, south_north, west_east) float32 0.0 0.0 ... 0.0 0.0\n",
       "    dhi             (Time, south_north, west_east) float32 0.0 0.0 ... 0.0 0.0</pre>"
      ],
      "text/plain": [
       "<xarray.Dataset>\n",
       "Dimensions:         (Time: 24, bottom_top: 35, south_north: 191, west_east: 191)\n",
       "Coordinates:\n",
       "  * Time            (Time) datetime64[ns] 2011-01-24T01:00:00 ... 2011-01-25\n",
       "    lon             (south_north, west_east) float32 -95.43335 ... -64.11832\n",
       "    lat             (south_north, west_east) float32 30.952759 ... 47.507103\n",
       "Dimensions without coordinates: bottom_top, south_north, west_east\n",
       "Data variables:\n",
       "    temp_air        (Time, south_north, west_east) float32 287.62427 ... 264.03226\n",
       "    wind_speed_u    (Time, south_north, west_east) float32 0.31499797 ... 17.972435\n",
       "    wind_speed_v    (Time, south_north, west_east) float32 1.1208413 ... -1.0850167\n",
       "    cloud_fraction  (Time, bottom_top, south_north, west_east) float32 0.0 ... 0.0\n",
       "    cos_zenith      (Time, south_north, west_east) float32 -0.23945779 ... -0.47179896\n",
       "    dni             (Time, south_north, west_east) float32 0.0 0.0 ... 0.0 0.0\n",
       "    dhi             (Time, south_north, west_east) float32 0.0 0.0 ... 0.0 0.0"
      ]
     },
     "execution_count": 21,
     "metadata": {},
     "output_type": "execute_result"
    }
   ],
   "source": [
    "# Process the data using the WRF forecast model methods\n",
    "fm = WRF()\n",
    "# met_data = fm.process_data(met_data)\n",
    "wind_speed10 = fm.uv_to_speed(met_data)\n",
    "temp_air = fm.kelvin_to_celsius(met_data['temp_air'])\n",
    "ghi = fm.dni_and_dhi_to_ghi(met_data['dni'], met_data['dhi'], met_data['cos_zenith'])\n",
    "met_data"
   ]
  },
  {
   "cell_type": "code",
   "execution_count": 22,
   "metadata": {},
   "outputs": [],
   "source": [
    "# Process the data using the wrf-python package\n",
    "height = wrf.getvar(netcdf_data, \"height_agl\", wrf.ALL_TIMES, units='m')\n",
    "wspd = wrf.getvar(netcdf_data, 'wspd_wdir', wrf.ALL_TIMES, units='m s-1')[0,:]\n",
    "\n",
    "#  Interpolate wind speeds to 100m height\n",
    "wind_speed100 = wrf.interplevel(wspd, height, 100)\n",
    "\n",
    "# Calculate wind power per square meter\n",
    "air_density = 1000 \n",
    "wpd = 0.5 * air_density * (wind_speed100) ** 3 "
   ]
  },
  {
   "cell_type": "code",
   "execution_count": 23,
   "metadata": {},
   "outputs": [
    {
     "data": {
      "text/html": [
       "<pre>&lt;xarray.Dataset&gt;\n",
       "Dimensions:         (Time: 24, bottom_top: 35, south_north: 191, west_east: 191)\n",
       "Coordinates:\n",
       "  * Time            (Time) datetime64[ns] 2011-01-24T01:00:00 ... 2011-01-25\n",
       "    lon             (south_north, west_east) float32 -95.43335 ... -64.11832\n",
       "    lat             (south_north, west_east) float32 30.952759 ... 47.507103\n",
       "    wspd_wdir       &lt;U4 &#x27;wspd&#x27;\n",
       "    XLONG           (south_north, west_east) float32 -95.43335 ... -64.11832\n",
       "    XLAT            (south_north, west_east) float32 30.952759 ... 47.507103\n",
       "    XTIME           (Time) float32 780.0 840.0 900.0 ... 2040.0 2100.0 2160.0\n",
       "    level           int64 100\n",
       "Dimensions without coordinates: bottom_top, south_north, west_east\n",
       "Data variables:\n",
       "    temp_air        (Time, south_north, west_east) float32 287.62427 ... 264.03226\n",
       "    wind_speed_u    (Time, south_north, west_east) float32 0.31499797 ... 17.972435\n",
       "    wind_speed_v    (Time, south_north, west_east) float32 1.1208413 ... -1.0850167\n",
       "    cloud_fraction  (Time, bottom_top, south_north, west_east) float32 0.0 ... 0.0\n",
       "    cos_zenith      (Time, south_north, west_east) float32 -0.23945779 ... -0.47179896\n",
       "    dni             (Time, south_north, west_east) float32 0.0 0.0 ... 0.0 0.0\n",
       "    dhi             (Time, south_north, west_east) float32 0.0 0.0 ... 0.0 0.0\n",
       "    ghi             (Time, south_north, west_east) float32 0.0 0.0 ... 0.0 0.0\n",
       "    wind_speed10    (Time, south_north, west_east) float32 1.1642632 ... 18.005157\n",
       "    wind_speed100   (Time, south_north, west_east) float32 2.304195 ... 18.084352\n",
       "    wpd             (Time, south_north, west_east) float32 6116.8477 ... 2957187.8</pre>"
      ],
      "text/plain": [
       "<xarray.Dataset>\n",
       "Dimensions:         (Time: 24, bottom_top: 35, south_north: 191, west_east: 191)\n",
       "Coordinates:\n",
       "  * Time            (Time) datetime64[ns] 2011-01-24T01:00:00 ... 2011-01-25\n",
       "    lon             (south_north, west_east) float32 -95.43335 ... -64.11832\n",
       "    lat             (south_north, west_east) float32 30.952759 ... 47.507103\n",
       "    wspd_wdir       <U4 'wspd'\n",
       "    XLONG           (south_north, west_east) float32 -95.43335 ... -64.11832\n",
       "    XLAT            (south_north, west_east) float32 30.952759 ... 47.507103\n",
       "    XTIME           (Time) float32 780.0 840.0 900.0 ... 2040.0 2100.0 2160.0\n",
       "    level           int64 100\n",
       "Dimensions without coordinates: bottom_top, south_north, west_east\n",
       "Data variables:\n",
       "    temp_air        (Time, south_north, west_east) float32 287.62427 ... 264.03226\n",
       "    wind_speed_u    (Time, south_north, west_east) float32 0.31499797 ... 17.972435\n",
       "    wind_speed_v    (Time, south_north, west_east) float32 1.1208413 ... -1.0850167\n",
       "    cloud_fraction  (Time, bottom_top, south_north, west_east) float32 0.0 ... 0.0\n",
       "    cos_zenith      (Time, south_north, west_east) float32 -0.23945779 ... -0.47179896\n",
       "    dni             (Time, south_north, west_east) float32 0.0 0.0 ... 0.0 0.0\n",
       "    dhi             (Time, south_north, west_east) float32 0.0 0.0 ... 0.0 0.0\n",
       "    ghi             (Time, south_north, west_east) float32 0.0 0.0 ... 0.0 0.0\n",
       "    wind_speed10    (Time, south_north, west_east) float32 1.1642632 ... 18.005157\n",
       "    wind_speed100   (Time, south_north, west_east) float32 2.304195 ... 18.084352\n",
       "    wpd             (Time, south_north, west_east) float32 6116.8477 ... 2957187.8"
      ]
     },
     "execution_count": 23,
     "metadata": {},
     "output_type": "execute_result"
    }
   ],
   "source": [
    "met_data['ghi'] = ghi\n",
    "met_data['wind_speed10'] = wind_speed10\n",
    "met_data['wind_speed100'] = wind_speed100\n",
    "met_data['wpd'] = wpd\n",
    "met_data"
   ]
  },
  {
   "cell_type": "code",
   "execution_count": 24,
   "metadata": {},
   "outputs": [
    {
     "ename": "TypeError",
     "evalue": "Invalid value for attr: LambertConformal(stand_lon=-97.0, moad_cen_lat=40.25984573364258, truelat1=33.0, truelat2=45.0, pole_lat=90.0, pole_lon=0.0) must be a number, a string, an ndarray or a list/tuple of numbers/strings for serialization to netCDF files",
     "output_type": "error",
     "traceback": [
      "\u001b[0;31m---------------------------------------------------------------------------\u001b[0m",
      "\u001b[0;31mTypeError\u001b[0m                                 Traceback (most recent call last)",
      "\u001b[0;32m<ipython-input-24-12923114c96f>\u001b[0m in \u001b[0;36m<module>\u001b[0;34m\u001b[0m\n\u001b[1;32m      1\u001b[0m \u001b[0;31m# Write the processed data back to a wrfout NetCDF file\u001b[0m\u001b[0;34m\u001b[0m\u001b[0;34m\u001b[0m\u001b[0;34m\u001b[0m\u001b[0m\n\u001b[1;32m      2\u001b[0m \u001b[0mnew_filename_1\u001b[0m \u001b[0;34m=\u001b[0m \u001b[0;34m'./wrfout_processed_d01_2011-01-24_01:00:00.nc'\u001b[0m\u001b[0;34m\u001b[0m\u001b[0;34m\u001b[0m\u001b[0m\n\u001b[0;32m----> 3\u001b[0;31m \u001b[0mmet_data\u001b[0m\u001b[0;34m.\u001b[0m\u001b[0mto_netcdf\u001b[0m\u001b[0;34m(\u001b[0m\u001b[0mpath\u001b[0m\u001b[0;34m=\u001b[0m\u001b[0mnew_filename_1\u001b[0m\u001b[0;34m)\u001b[0m\u001b[0;34m\u001b[0m\u001b[0;34m\u001b[0m\u001b[0m\n\u001b[0m",
      "\u001b[0;32m~/anaconda3/envs/runwrf/lib/python3.7/site-packages/xarray/core/dataset.py\u001b[0m in \u001b[0;36mto_netcdf\u001b[0;34m(self, path, mode, format, group, engine, encoding, unlimited_dims, compute, invalid_netcdf)\u001b[0m\n\u001b[1;32m   1545\u001b[0m             \u001b[0munlimited_dims\u001b[0m\u001b[0;34m=\u001b[0m\u001b[0munlimited_dims\u001b[0m\u001b[0;34m,\u001b[0m\u001b[0;34m\u001b[0m\u001b[0;34m\u001b[0m\u001b[0m\n\u001b[1;32m   1546\u001b[0m             \u001b[0mcompute\u001b[0m\u001b[0;34m=\u001b[0m\u001b[0mcompute\u001b[0m\u001b[0;34m,\u001b[0m\u001b[0;34m\u001b[0m\u001b[0;34m\u001b[0m\u001b[0m\n\u001b[0;32m-> 1547\u001b[0;31m             \u001b[0minvalid_netcdf\u001b[0m\u001b[0;34m=\u001b[0m\u001b[0minvalid_netcdf\u001b[0m\u001b[0;34m,\u001b[0m\u001b[0;34m\u001b[0m\u001b[0;34m\u001b[0m\u001b[0m\n\u001b[0m\u001b[1;32m   1548\u001b[0m         )\n\u001b[1;32m   1549\u001b[0m \u001b[0;34m\u001b[0m\u001b[0m\n",
      "\u001b[0;32m~/anaconda3/envs/runwrf/lib/python3.7/site-packages/xarray/backends/api.py\u001b[0m in \u001b[0;36mto_netcdf\u001b[0;34m(dataset, path_or_file, mode, format, group, engine, encoding, unlimited_dims, compute, multifile, invalid_netcdf)\u001b[0m\n\u001b[1;32m   1022\u001b[0m     \u001b[0;31m# validate Dataset keys, DataArray names, and attr keys/values\u001b[0m\u001b[0;34m\u001b[0m\u001b[0;34m\u001b[0m\u001b[0;34m\u001b[0m\u001b[0m\n\u001b[1;32m   1023\u001b[0m     \u001b[0m_validate_dataset_names\u001b[0m\u001b[0;34m(\u001b[0m\u001b[0mdataset\u001b[0m\u001b[0;34m)\u001b[0m\u001b[0;34m\u001b[0m\u001b[0;34m\u001b[0m\u001b[0m\n\u001b[0;32m-> 1024\u001b[0;31m     \u001b[0m_validate_attrs\u001b[0m\u001b[0;34m(\u001b[0m\u001b[0mdataset\u001b[0m\u001b[0;34m)\u001b[0m\u001b[0;34m\u001b[0m\u001b[0;34m\u001b[0m\u001b[0m\n\u001b[0m\u001b[1;32m   1025\u001b[0m \u001b[0;34m\u001b[0m\u001b[0m\n\u001b[1;32m   1026\u001b[0m     \u001b[0;32mtry\u001b[0m\u001b[0;34m:\u001b[0m\u001b[0;34m\u001b[0m\u001b[0;34m\u001b[0m\u001b[0m\n",
      "\u001b[0;32m~/anaconda3/envs/runwrf/lib/python3.7/site-packages/xarray/backends/api.py\u001b[0m in \u001b[0;36m_validate_attrs\u001b[0;34m(dataset)\u001b[0m\n\u001b[1;32m    214\u001b[0m     \u001b[0;32mfor\u001b[0m \u001b[0mvariable\u001b[0m \u001b[0;32min\u001b[0m \u001b[0mdataset\u001b[0m\u001b[0;34m.\u001b[0m\u001b[0mvariables\u001b[0m\u001b[0;34m.\u001b[0m\u001b[0mvalues\u001b[0m\u001b[0;34m(\u001b[0m\u001b[0;34m)\u001b[0m\u001b[0;34m:\u001b[0m\u001b[0;34m\u001b[0m\u001b[0;34m\u001b[0m\u001b[0m\n\u001b[1;32m    215\u001b[0m         \u001b[0;32mfor\u001b[0m \u001b[0mk\u001b[0m\u001b[0;34m,\u001b[0m \u001b[0mv\u001b[0m \u001b[0;32min\u001b[0m \u001b[0mvariable\u001b[0m\u001b[0;34m.\u001b[0m\u001b[0mattrs\u001b[0m\u001b[0;34m.\u001b[0m\u001b[0mitems\u001b[0m\u001b[0;34m(\u001b[0m\u001b[0;34m)\u001b[0m\u001b[0;34m:\u001b[0m\u001b[0;34m\u001b[0m\u001b[0;34m\u001b[0m\u001b[0m\n\u001b[0;32m--> 216\u001b[0;31m             \u001b[0mcheck_attr\u001b[0m\u001b[0;34m(\u001b[0m\u001b[0mk\u001b[0m\u001b[0;34m,\u001b[0m \u001b[0mv\u001b[0m\u001b[0;34m)\u001b[0m\u001b[0;34m\u001b[0m\u001b[0;34m\u001b[0m\u001b[0m\n\u001b[0m\u001b[1;32m    217\u001b[0m \u001b[0;34m\u001b[0m\u001b[0m\n\u001b[1;32m    218\u001b[0m \u001b[0;34m\u001b[0m\u001b[0m\n",
      "\u001b[0;32m~/anaconda3/envs/runwrf/lib/python3.7/site-packages/xarray/backends/api.py\u001b[0m in \u001b[0;36mcheck_attr\u001b[0;34m(name, value)\u001b[0m\n\u001b[1;32m    204\u001b[0m                 \u001b[0;34m\"a string, an ndarray or a list/tuple of \"\u001b[0m\u001b[0;34m\u001b[0m\u001b[0;34m\u001b[0m\u001b[0m\n\u001b[1;32m    205\u001b[0m                 \u001b[0;34m\"numbers/strings for serialization to netCDF \"\u001b[0m\u001b[0;34m\u001b[0m\u001b[0;34m\u001b[0m\u001b[0m\n\u001b[0;32m--> 206\u001b[0;31m                 \u001b[0;34m\"files\"\u001b[0m\u001b[0;34m.\u001b[0m\u001b[0mformat\u001b[0m\u001b[0;34m(\u001b[0m\u001b[0mvalue\u001b[0m\u001b[0;34m)\u001b[0m\u001b[0;34m\u001b[0m\u001b[0;34m\u001b[0m\u001b[0m\n\u001b[0m\u001b[1;32m    207\u001b[0m             )\n\u001b[1;32m    208\u001b[0m \u001b[0;34m\u001b[0m\u001b[0m\n",
      "\u001b[0;31mTypeError\u001b[0m: Invalid value for attr: LambertConformal(stand_lon=-97.0, moad_cen_lat=40.25984573364258, truelat1=33.0, truelat2=45.0, pole_lat=90.0, pole_lon=0.0) must be a number, a string, an ndarray or a list/tuple of numbers/strings for serialization to netCDF files"
     ]
    }
   ],
   "source": [
    "# Write the processed data back to a wrfout NetCDF file\n",
    "new_filename_1 = './wrfout_processed_d01_2011-01-24_01:00:00.nc'\n",
    "met_data.to_netcdf(path=new_filename_1)"
   ]
  },
  {
   "cell_type": "code",
   "execution_count": null,
   "metadata": {},
   "outputs": [],
   "source": []
  }
 ],
 "metadata": {
  "kernelspec": {
   "display_name": "Python 3",
   "language": "python",
   "name": "python3"
  },
  "language_info": {
   "codemirror_mode": {
    "name": "ipython",
    "version": 3
   },
   "file_extension": ".py",
   "mimetype": "text/x-python",
   "name": "python",
   "nbconvert_exporter": "python",
   "pygments_lexer": "ipython3",
   "version": "3.7.6"
  }
 },
 "nbformat": 4,
 "nbformat_minor": 2
}
