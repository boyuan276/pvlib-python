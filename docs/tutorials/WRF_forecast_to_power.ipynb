{
 "cells": [
  {
   "cell_type": "markdown",
   "metadata": {},
   "source": [
    "# Forecast to Power Tutorial\n",
    "\n",
    "This tutorial will walk through the process of going from a WRF forecast model data to AC power using the SAPM.\n",
    "\n",
    "Table of contents:\n",
    "1. [Setup](#Setup)\n",
    "2. [Load Forecast data](#Load-Forecast-data)\n",
    "2. [Calculate modeling intermediates](#Calculate-modeling-intermediates)\n",
    "2. [DC power using SAPM](#DC-power-using-SAPM)\n",
    "2. [AC power using SAPM](#AC-power-using-SAPM)\n",
    "\n",
    "This tutorial requires pvlib >= 0.6.0.\n",
    "\n",
    "Authors:\n",
    "* Jeffrey Sward (jas983@cornell.edu), Cornell University, June 2020"
   ]
  },
  {
   "cell_type": "markdown",
   "metadata": {},
   "source": [
    "## Setup"
   ]
  },
  {
   "cell_type": "code",
   "execution_count": 1,
   "metadata": {},
   "outputs": [
    {
     "name": "stderr",
     "output_type": "stream",
     "text": [
      "/Users/swardy9230/Box Sync/01_Research/01_Renewable_Analysis/WRF_Solar_and_Wind/pvlib-python/pvlib/wrfcast.py:20: UserWarning: The forecast module algorithms and features are highly experimental. The API may change, the functionality may be consolidated into an io module, or the module may be separated into its own package.\n",
      "  'The forecast module algorithms and features are highly experimental. '\n"
     ]
    }
   ],
   "source": [
    "%matplotlib inline\n",
    "import matplotlib.pyplot as plt\n",
    "\n",
    "# built in python modules\n",
    "import datetime\n",
    "import os\n",
    "import inspect\n",
    "import sys\n",
    "\n",
    "# python add-ons\n",
    "import numpy as np\n",
    "import pandas as pd\n",
    "import xarray as xr\n",
    "import netCDF4\n",
    "import wrf\n",
    "from optwrf import runwrf as rw\n",
    "\n",
    "# # Import the pvlib module\n",
    "if sys.platform == 'linux':\n",
    "    sys.path.append('/home/jsward/Documents/01_Research/01_Renewable_Analysis/WRF/pvlib-python')\n",
    "import pvlib\n",
    "from pvlib.wrfcast import WRF"
   ]
  },
  {
   "cell_type": "markdown",
   "metadata": {},
   "source": [
    "## Load Forecast Data"
   ]
  },
  {
   "cell_type": "code",
   "execution_count": 2,
   "metadata": {},
   "outputs": [],
   "source": [
    "# Specify the forecast model as WRF\n",
    "fm = WRF()"
   ]
  },
  {
   "cell_type": "code",
   "execution_count": 4,
   "metadata": {},
   "outputs": [],
   "source": [
    "# Find the absolute file path to your pvlib installation\n",
    "pvlib_abspath = os.path.dirname(os.path.abspath(inspect.getfile(pvlib)))\n",
    "\n",
    "# absolute path to WRF data file\n",
    "DIR_WRFOUT = os.path.join(pvlib_abspath, 'data/')\n",
    "wrfout_file = 'wrfout_d01_2011-01-24_01:00:00'\n",
    "\n",
    "# Get/process the data from the wrfout file\n",
    "forecast_data = rw.process_wrfout_data(DIR_WRFOUT, wrfout_file, save_file=False)"
   ]
  },
  {
   "cell_type": "markdown",
   "metadata": {},
   "source": [
    "Below is an output of the processed WRF data"
   ]
  },
  {
   "cell_type": "code",
   "execution_count": 6,
   "metadata": {},
   "outputs": [
    {
     "data": {
      "text/html": [
       "<pre>&lt;xarray.Dataset&gt;\n",
       "Dimensions:         (Time: 5, bottom_top: 5, south_north: 5, west_east: 5)\n",
       "Coordinates:\n",
       "  * Time            (Time) datetime64[ns] 2011-01-24T01:00:00 ... 2011-01-24T05:00:00\n",
       "    lon             (south_north, west_east) float32 -95.43335 ... -94.920715\n",
       "    lat             (south_north, west_east) float32 30.952759 ... 31.37416\n",
       "    wspd_wdir       &lt;U4 &#x27;wspd&#x27;\n",
       "    XLONG           (south_north, west_east) float32 -95.43335 ... -94.920715\n",
       "    XLAT            (south_north, west_east) float32 30.952759 ... 31.37416\n",
       "    XTIME           (Time) float32 780.0 840.0 900.0 960.0 1020.0\n",
       "    level           int64 100\n",
       "Dimensions without coordinates: bottom_top, south_north, west_east\n",
       "Data variables:\n",
       "    Times           (Time) datetime64[ns] 2011-01-24T01:00:00 ... 2011-01-24T05:00:00\n",
       "    temp_air        (Time, south_north, west_east) float32 14.474274 ... 11.201599\n",
       "    wind_speed_u    (Time, south_north, west_east) float32 0.31499797 ... 2.2448149\n",
       "    wind_speed_v    (Time, south_north, west_east) float32 1.1208413 ... -0.050445393\n",
       "    cloud_fraction  (Time, bottom_top, south_north, west_east) float32 0.0 ... 0.0\n",
       "    cos_zenith      (Time, south_north, west_east) float32 -0.23945779 ... -0.9047607\n",
       "    dni             (Time, south_north, west_east) float32 0.0 0.0 ... 0.0 0.0\n",
       "    dhi             (Time, south_north, west_east) float32 0.0 0.0 ... 0.0 0.0\n",
       "    ghi             (Time, south_north, west_east) float32 0.0 0.0 ... 0.0 0.0\n",
       "    wind_speed10    (Time, south_north, west_east) float32 1.1642632 ... 2.2453816\n",
       "    wind_speed100   (Time, south_north, west_east) float32 2.304195 ... 4.2133384\n",
       "    wpd             (Time, south_north, west_east) float32 6116.8477 ... 37398.055</pre>"
      ],
      "text/plain": [
       "<xarray.Dataset>\n",
       "Dimensions:         (Time: 5, bottom_top: 5, south_north: 5, west_east: 5)\n",
       "Coordinates:\n",
       "  * Time            (Time) datetime64[ns] 2011-01-24T01:00:00 ... 2011-01-24T05:00:00\n",
       "    lon             (south_north, west_east) float32 -95.43335 ... -94.920715\n",
       "    lat             (south_north, west_east) float32 30.952759 ... 31.37416\n",
       "    wspd_wdir       <U4 'wspd'\n",
       "    XLONG           (south_north, west_east) float32 -95.43335 ... -94.920715\n",
       "    XLAT            (south_north, west_east) float32 30.952759 ... 31.37416\n",
       "    XTIME           (Time) float32 780.0 840.0 900.0 960.0 1020.0\n",
       "    level           int64 100\n",
       "Dimensions without coordinates: bottom_top, south_north, west_east\n",
       "Data variables:\n",
       "    Times           (Time) datetime64[ns] 2011-01-24T01:00:00 ... 2011-01-24T05:00:00\n",
       "    temp_air        (Time, south_north, west_east) float32 14.474274 ... 11.201599\n",
       "    wind_speed_u    (Time, south_north, west_east) float32 0.31499797 ... 2.2448149\n",
       "    wind_speed_v    (Time, south_north, west_east) float32 1.1208413 ... -0.050445393\n",
       "    cloud_fraction  (Time, bottom_top, south_north, west_east) float32 0.0 ... 0.0\n",
       "    cos_zenith      (Time, south_north, west_east) float32 -0.23945779 ... -0.9047607\n",
       "    dni             (Time, south_north, west_east) float32 0.0 0.0 ... 0.0 0.0\n",
       "    dhi             (Time, south_north, west_east) float32 0.0 0.0 ... 0.0 0.0\n",
       "    ghi             (Time, south_north, west_east) float32 0.0 0.0 ... 0.0 0.0\n",
       "    wind_speed10    (Time, south_north, west_east) float32 1.1642632 ... 2.2453816\n",
       "    wind_speed100   (Time, south_north, west_east) float32 2.304195 ... 4.2133384\n",
       "    wpd             (Time, south_north, west_east) float32 6116.8477 ... 37398.055"
      ]
     },
     "execution_count": 6,
     "metadata": {},
     "output_type": "execute_result"
    }
   ],
   "source": [
    "forecast_data.head()"
   ]
  },
  {
   "cell_type": "markdown",
   "metadata": {},
   "source": [
    "This is an ``xarray DataSet`` object. It has a lot of great properties that are beyond the scope of our tutorials. Specifically for those working with 3-dimensional (or higher) data."
   ]
  },
  {
   "cell_type": "code",
   "execution_count": null,
   "metadata": {},
   "outputs": [],
   "source": []
  }
 ],
 "metadata": {
  "kernelspec": {
   "display_name": "Python 3",
   "language": "python",
   "name": "python3"
  },
  "language_info": {
   "codemirror_mode": {
    "name": "ipython",
    "version": 3
   },
   "file_extension": ".py",
   "mimetype": "text/x-python",
   "name": "python",
   "nbconvert_exporter": "python",
   "pygments_lexer": "ipython3",
   "version": "3.7.6"
  }
 },
 "nbformat": 4,
 "nbformat_minor": 4
}
